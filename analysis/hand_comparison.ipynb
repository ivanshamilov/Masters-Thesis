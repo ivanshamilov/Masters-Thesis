{
 "cells": [
  {
   "cell_type": "code",
   "execution_count": 22,
   "id": "8d740f7c",
   "metadata": {},
   "outputs": [],
   "source": [
    "import polars as pl \n",
    "import numpy as np \n",
    "import pickle \n",
    "\n",
    "import plotly.express as px\n",
    "import plotly.graph_objects as go\n",
    "import plotly.figure_factory as ff\n",
    "from plotly.offline import init_notebook_mode\n",
    "from plotly.subplots import make_subplots\n",
    "\n",
    "from helpers import *"
   ]
  },
  {
   "cell_type": "code",
   "execution_count": 2,
   "id": "269aac3f",
   "metadata": {},
   "outputs": [
    {
     "data": {
      "text/html": [
       "<div><style>\n",
       ".dataframe > thead > tr > th,\n",
       ".dataframe > tbody > tr > td {\n",
       "  text-align: right;\n",
       "}\n",
       "</style>\n",
       "<small>shape: (5, 18)</small><table border=\"1\" class=\"dataframe\"><thead><tr><th>PARTICIPANT_ID</th><th>AGE</th><th>GENDER</th><th>HAS_TAKEN_TYPING_COURSE</th><th>COUNTRY</th><th>LAYOUT</th><th>NATIVE_LANGUAGE</th><th>FINGERS</th><th>TIME_SPENT_TYPING</th><th>KEYBOARD_TYPE</th><th>ERROR_RATE</th><th>AVG_WPM_15</th><th>AVG_IKI</th><th>ECPC</th><th>KSPC</th><th>ROR</th><th>SPEED</th><th>AVG_KEYPRESS</th></tr><tr><td>i64</td><td>i64</td><td>str</td><td>i64</td><td>str</td><td>str</td><td>str</td><td>str</td><td>i64</td><td>str</td><td>f64</td><td>f64</td><td>f64</td><td>f64</td><td>f64</td><td>f64</td><td>str</td><td>f64</td></tr></thead><tbody><tr><td>5</td><td>27</td><td>&quot;female&quot;</td><td>0</td><td>&quot;MY&quot;</td><td>&quot;qwerty&quot;</td><td>&quot;en&quot;</td><td>&quot;7-8&quot;</td><td>6</td><td>&quot;laptop&quot;</td><td>0.87108</td><td>72.8871</td><td>150.457375</td><td>0.031469</td><td>1.101399</td><td>0.3675</td><td>&quot;fast&quot;</td><td>102.780952</td></tr><tr><td>7</td><td>13</td><td>&quot;female&quot;</td><td>0</td><td>&quot;AU&quot;</td><td>&quot;qwerty&quot;</td><td>&quot;en&quot;</td><td>&quot;7-8&quot;</td><td>0</td><td>&quot;laptop&quot;</td><td>6.685633</td><td>24.1809</td><td>386.575303</td><td>0.092105</td><td>1.292398</td><td>0.0667</td><td>&quot;slow&quot;</td><td>122.280861</td></tr><tr><td>23</td><td>21</td><td>&quot;female&quot;</td><td>0</td><td>&quot;IN&quot;</td><td>&quot;qwerty&quot;</td><td>&quot;en&quot;</td><td>&quot;3-4&quot;</td><td>0</td><td>&quot;full&quot;</td><td>2.130493</td><td>24.7112</td><td>457.947902</td><td>0.016624</td><td>1.07289</td><td>0.0413</td><td>&quot;slow&quot;</td><td>128.350417</td></tr><tr><td>24</td><td>21</td><td>&quot;female&quot;</td><td>0</td><td>&quot;PH&quot;</td><td>&quot;qwerty&quot;</td><td>&quot;tl&quot;</td><td>&quot;7-8&quot;</td><td>1</td><td>&quot;laptop&quot;</td><td>1.893287</td><td>45.3364</td><td>223.913395</td><td>0.045296</td><td>1.1777</td><td>0.2678</td><td>&quot;slow&quot;</td><td>121.406805</td></tr><tr><td>25</td><td>19</td><td>&quot;male&quot;</td><td>0</td><td>&quot;IN&quot;</td><td>&quot;qwerty&quot;</td><td>&quot;en&quot;</td><td>&quot;7-8&quot;</td><td>1</td><td>&quot;laptop&quot;</td><td>0.747384</td><td>54.6831</td><td>190.034172</td><td>0.055389</td><td>1.146707</td><td>0.4434</td><td>&quot;slow&quot;</td><td>143.912533</td></tr></tbody></table></div>"
      ],
      "text/plain": [
       "shape: (5, 18)\n",
       "┌────────────────┬─────┬────────┬───────────────────┬───┬──────────┬────────┬───────┬──────────────┐\n",
       "│ PARTICIPANT_ID ┆ AGE ┆ GENDER ┆ HAS_TAKEN_TYPING_ ┆ … ┆ KSPC     ┆ ROR    ┆ SPEED ┆ AVG_KEYPRESS │\n",
       "│ ---            ┆ --- ┆ ---    ┆ COURSE            ┆   ┆ ---      ┆ ---    ┆ ---   ┆ ---          │\n",
       "│ i64            ┆ i64 ┆ str    ┆ ---               ┆   ┆ f64      ┆ f64    ┆ str   ┆ f64          │\n",
       "│                ┆     ┆        ┆ i64               ┆   ┆          ┆        ┆       ┆              │\n",
       "╞════════════════╪═════╪════════╪═══════════════════╪═══╪══════════╪════════╪═══════╪══════════════╡\n",
       "│ 5              ┆ 27  ┆ female ┆ 0                 ┆ … ┆ 1.101399 ┆ 0.3675 ┆ fast  ┆ 102.780952   │\n",
       "│ 7              ┆ 13  ┆ female ┆ 0                 ┆ … ┆ 1.292398 ┆ 0.0667 ┆ slow  ┆ 122.280861   │\n",
       "│ 23             ┆ 21  ┆ female ┆ 0                 ┆ … ┆ 1.07289  ┆ 0.0413 ┆ slow  ┆ 128.350417   │\n",
       "│ 24             ┆ 21  ┆ female ┆ 0                 ┆ … ┆ 1.1777   ┆ 0.2678 ┆ slow  ┆ 121.406805   │\n",
       "│ 25             ┆ 19  ┆ male   ┆ 0                 ┆ … ┆ 1.146707 ┆ 0.4434 ┆ slow  ┆ 143.912533   │\n",
       "└────────────────┴─────┴────────┴───────────────────┴───┴──────────┴────────┴───────┴──────────────┘"
      ]
     },
     "execution_count": 2,
     "metadata": {},
     "output_type": "execute_result"
    }
   ],
   "source": [
    "big_metadata = pl.read_csv(\"../data/preprocessed_big_metadata.csv\")\n",
    "big_metadata.head()"
   ]
  },
  {
   "cell_type": "code",
   "execution_count": 3,
   "id": "cfc79056",
   "metadata": {},
   "outputs": [
    {
     "data": {
      "text/plain": [
       "dict_items([('48', 'R'), ('49', 'L'), ('50', 'L'), ('51', 'L'), ('52', 'L'), ('53', 'L'), ('54', 'L'), ('55', 'R'), ('56', 'R'), ('57', 'R'), ('8', 'R'), ('9', 'L'), ('13', 'L'), ('16', ['L', 'R']), ('17', ['L', 'R']), ('18', ['L', 'R']), ('19', 'R'), ('20', 'L'), ('27', 'L'), ('32', 'R'), ('33', 'R'), ('34', 'R'), ('35', 'R'), ('36', 'R'), ('37', 'R'), ('38', 'R'), ('39', 'R'), ('40', 'R'), ('44', 'R'), ('45', 'R'), ('46', 'R'), ('65', 'L'), ('66', 'R'), ('67', 'L'), ('68', 'L'), ('69', 'L'), ('70', 'L'), ('71', 'L'), ('72', 'R'), ('73', 'R'), ('74', 'R'), ('75', 'R'), ('76', 'R'), ('77', 'R'), ('78', 'R'), ('79', 'R'), ('80', 'R'), ('81', 'L'), ('82', 'L'), ('83', 'L'), ('84', 'L'), ('85', 'R'), ('86', 'L'), ('87', 'L'), ('88', 'L'), ('89', 'R'), ('90', 'L'), ('91', 'L'), ('92', 'R'), ('93', 'R'), ('96', 'R'), ('97', 'R'), ('98', 'R'), ('99', 'R'), ('100', 'R'), ('101', 'R'), ('102', 'R'), ('103', 'R'), ('104', 'R'), ('105', 'R'), ('106', 'R'), ('107', 'R'), ('109', 'R'), ('110', 'R'), ('111', 'R'), ('112', 'L'), ('113', 'L'), ('114', 'L'), ('115', 'L'), ('116', 'L'), ('117', 'R'), ('118', 'R'), ('119', 'R'), ('120', 'R'), ('121', 'R'), ('122', 'R'), ('123', 'R'), ('144', 'R'), ('145', 'R'), ('186', 'R'), ('187', 'R'), ('188', 'R'), ('189', 'R'), ('190', 'R'), ('191', 'R'), ('192', 'L'), ('219', 'R'), ('220', 'R'), ('221', 'R'), ('222', 'R')])"
      ]
     },
     "execution_count": 3,
     "metadata": {},
     "output_type": "execute_result"
    }
   ],
   "source": [
    "with open(\"../mappings/key-hand.json\", \"r\") as f:\n",
    "    key_hand = json.load(f)\n",
    "    \n",
    "key_hand.items()"
   ]
  },
  {
   "cell_type": "code",
   "execution_count": 4,
   "id": "d2c2ea3a",
   "metadata": {},
   "outputs": [],
   "source": [
    "mapper = Mapper()\n",
    "participant_ids = find_all_participants(BIG_DATA_DIR)"
   ]
  },
  {
   "cell_type": "code",
   "execution_count": 5,
   "id": "f6f19cf7",
   "metadata": {},
   "outputs": [
    {
     "data": {
      "text/plain": [
       "['21833',\n",
       " '233209',\n",
       " '485024',\n",
       " '375416',\n",
       " '39734',\n",
       " '34285',\n",
       " '285679',\n",
       " '256683',\n",
       " '206052',\n",
       " '201699']"
      ]
     },
     "execution_count": 5,
     "metadata": {},
     "output_type": "execute_result"
    }
   ],
   "source": [
    "participant_ids[:10]"
   ]
  },
  {
   "cell_type": "code",
   "execution_count": null,
   "id": "2c720c16",
   "metadata": {
    "scrolled": true
   },
   "outputs": [],
   "source": [
    "ignore_keys = [mapper.get_code_from_key(\"<SoS>\"), mapper.get_code_from_key(\"space\")]\n",
    "hands = np.empty((len(participant_ids), 3, 2))\n",
    "\n",
    "# pids = ['291017']\n",
    "\n",
    "for i, participant_id in enumerate(participant_ids):\n",
    "    if i % 1000 == 0:\n",
    "        print(f\"File {i:7d} of {len(participant_ids)}\")\n",
    "    try:\n",
    "        df = read_data_for_participant(participant_id, directory=BIG_DATA_DIR, print_info=False, drop_timestamps=False, \n",
    "                                       columns_to_read=[\"TEST_SECTION_ID\", \"RELEASE_TIME\", \"PRESS_TIME\", \"KEYCODE\"], quote_char=None,\n",
    "                                       dtypes={\"PRESS_TIME\": float, \"RELEASE_TIME\": float})\n",
    "        df = create_bigrams(df, ignore_keys=ignore_keys)\n",
    "        df = (\n",
    "            df.lazy()\n",
    "            .with_columns([\n",
    "                pl.struct([\"PREV_KEYCODE\", \"KEYCODE\"]).apply(lambda x: key_hand[str(x[\"PREV_KEYCODE\"])] + key_hand[str(x[\"KEYCODE\"])]).alias(\"HANDS\"),\n",
    "            ])\n",
    "            .select([\n",
    "                pl.col(\"INTER_KEY_INTERVAL\"),\n",
    "                pl.when(pl.col(\"HANDS\").apply(lambda x: len(set(x))) == 1)\n",
    "                    .then(pl.col(\"HANDS\").apply(lambda x: x[0]))\n",
    "                    .otherwise(\"Alteration\")\n",
    "                    .alias(\"BIGRAM_HAND\"),\n",
    "                pl.when(pl.col(\"KEYCODE\") == pl.col(\"PREV_KEYCODE\"))\n",
    "                    .then(pl.col(\"INTER_KEY_INTERVAL\"))\n",
    "                    .otherwise(None)\n",
    "                    .alias(\"LETTER_REPETITION\")\n",
    "            ])\n",
    "            .groupby(\"BIGRAM_HAND\").mean()\n",
    "            .sort(\"BIGRAM_HAND\")\n",
    "            .collect()\n",
    "        ) \n",
    "        \n",
    "        # Output is a dataframe with the average value of IKI for Left / Right hand, Hand-alteration + Letter Repetition\n",
    "        hands[i] = df[:,1:].rows() # first element - alteration, second - left, third - right\n",
    "        break\n",
    "    except FileNotFoundError:\n",
    "        continue\n",
    "    "
   ]
  },
  {
   "cell_type": "code",
   "execution_count": 17,
   "id": "7733edd8",
   "metadata": {},
   "outputs": [],
   "source": [
    "with open('../data/hand-comparison-repetitions.pickle', 'rb') as handle:\n",
    "    hands = pickle.load(handle)"
   ]
  },
  {
   "cell_type": "code",
   "execution_count": 19,
   "id": "da8a4853",
   "metadata": {
    "scrolled": false
   },
   "outputs": [],
   "source": [
    "# bigrams = np.array([\"Alteration\", \"L\", \"R\"] * len(participant_ids)).reshape(-1, 1)\n",
    "# test = np.concatenate([hands.reshape(-1, 2), bigrams], axis=1)\n",
    "\n",
    "hands_df = pl.DataFrame(data=hands.reshape(-1, 2), schema=[\"IKI\", \"IKI_REPETITION\"])\n",
    "hands_df = hands_df.with_columns([\n",
    "    pl.Series(np.array([\"Alteration\", \"L\", \"R\"] * len(participant_ids))).alias(\"BIGRAM_HAND\"),\n",
    "    pl.Series(np.array(list(map(lambda x: np.repeat(x, 3).tolist(), np.array(participant_ids).reshape(-1, 1)))).ravel()).alias(\"PARTICIPANT_ID\").cast(int)\n",
    "])"
   ]
  },
  {
   "cell_type": "markdown",
   "id": "16beadd2",
   "metadata": {},
   "source": [
    "### Difference between hand bigrams for all participants"
   ]
  },
  {
   "cell_type": "code",
   "execution_count": null,
   "id": "01ddb8c0",
   "metadata": {},
   "outputs": [],
   "source": [
    "fig = ff.create_distplot(\n",
    "    [\n",
    "        hands_df.filter(pl.col(\"BIGRAM_HAND\") == \"R\")[\"IKI\"].view().tolist(),\n",
    "        hands_df.filter(pl.col(\"BIGRAM_HAND\") == \"L\")[\"IKI\"].view().tolist(),\n",
    "        hands_df.filter(pl.col(\"BIGRAM_HAND\") == \"Alteration\")[\"IKI\"].view().tolist(),\n",
    "    ], group_labels=[\"Right\", \"Left\", \"Hand-alteration\"], show_rug=False, bin_size=5)\n",
    "\n",
    "\n",
    "fig.add_vline(x=0, line_dash=\"dash\", line_color=\"red\")\n",
    "\n",
    "fig.update_layout(template=\"none\", width=1600, height=1000, xaxis=dict(dtick=50), font=dict(size=20), \n",
    "                 legend=dict(\n",
    "                        yanchor=\"top\",\n",
    "                        y=0.99,\n",
    "                        xanchor=\"left\",\n",
    "                        x=0.8,\n",
    "                        font=dict(size=30)\n",
    "                    ), xaxis_title=\"Inter-Key Interval Time (ms)\", yaxis_title=\"Density\")\n",
    "# \n",
    "fig.update_xaxes(showgrid=True, range=[-220, 600])\n",
    "fig.show()"
   ]
  },
  {
   "cell_type": "code",
   "execution_count": 26,
   "id": "588dd815",
   "metadata": {},
   "outputs": [
    {
     "data": {
      "text/html": [
       "<div><style>\n",
       ".dataframe > thead > tr > th,\n",
       ".dataframe > tbody > tr > td {\n",
       "  text-align: right;\n",
       "}\n",
       "</style>\n",
       "<small>shape: (5, 6)</small><table border=\"1\" class=\"dataframe\"><thead><tr><th>IKI</th><th>IKI_REPETITION</th><th>BIGRAM_HAND</th><th>PARTICIPANT_ID</th><th>SPEED</th><th>HAS_TAKEN_TYPING_COURSE</th></tr><tr><td>f64</td><td>f64</td><td>str</td><td>i64</td><td>str</td><td>i64</td></tr></thead><tbody><tr><td>368.792857</td><td>NaN</td><td>&quot;Alteration&quot;</td><td>21833</td><td>&quot;slow&quot;</td><td>1</td></tr><tr><td>267.073171</td><td>75.375</td><td>&quot;L&quot;</td><td>21833</td><td>&quot;slow&quot;</td><td>1</td></tr><tr><td>365.486667</td><td>133.590909</td><td>&quot;R&quot;</td><td>21833</td><td>&quot;slow&quot;</td><td>1</td></tr><tr><td>62.811912</td><td>NaN</td><td>&quot;Alteration&quot;</td><td>233209</td><td>&quot;slow&quot;</td><td>1</td></tr><tr><td>51.433333</td><td>79.0</td><td>&quot;L&quot;</td><td>233209</td><td>&quot;slow&quot;</td><td>1</td></tr></tbody></table></div>"
      ],
      "text/plain": [
       "shape: (5, 6)\n",
       "┌────────────┬────────────────┬─────────────┬────────────────┬───────┬─────────────────────────┐\n",
       "│ IKI        ┆ IKI_REPETITION ┆ BIGRAM_HAND ┆ PARTICIPANT_ID ┆ SPEED ┆ HAS_TAKEN_TYPING_COURSE │\n",
       "│ ---        ┆ ---            ┆ ---         ┆ ---            ┆ ---   ┆ ---                     │\n",
       "│ f64        ┆ f64            ┆ str         ┆ i64            ┆ str   ┆ i64                     │\n",
       "╞════════════╪════════════════╪═════════════╪════════════════╪═══════╪═════════════════════════╡\n",
       "│ 368.792857 ┆ NaN            ┆ Alteration  ┆ 21833          ┆ slow  ┆ 1                       │\n",
       "│ 267.073171 ┆ 75.375         ┆ L           ┆ 21833          ┆ slow  ┆ 1                       │\n",
       "│ 365.486667 ┆ 133.590909     ┆ R           ┆ 21833          ┆ slow  ┆ 1                       │\n",
       "│ 62.811912  ┆ NaN            ┆ Alteration  ┆ 233209         ┆ slow  ┆ 1                       │\n",
       "│ 51.433333  ┆ 79.0           ┆ L           ┆ 233209         ┆ slow  ┆ 1                       │\n",
       "└────────────┴────────────────┴─────────────┴────────────────┴───────┴─────────────────────────┘"
      ]
     },
     "execution_count": 26,
     "metadata": {},
     "output_type": "execute_result"
    }
   ],
   "source": [
    "hands_df = hands_df.join(big_metadata[[\"PARTICIPANT_ID\", \"SPEED\", \"HAS_TAKEN_TYPING_COURSE\"]], on=\"PARTICIPANT_ID\")\n",
    "hands_df.head()"
   ]
  },
  {
   "cell_type": "code",
   "execution_count": 27,
   "id": "78441ad1",
   "metadata": {},
   "outputs": [],
   "source": [
    "trained_hands_df = hands_df.filter(pl.col(\"HAS_TAKEN_TYPING_COURSE\") == 1)\n",
    "untrained_hands_df = hands_df.filter(pl.col(\"HAS_TAKEN_TYPING_COURSE\") == 0)\n",
    "\n",
    "fast_hands_df = hands_df.filter(pl.col(\"SPEED\") == \"fast\")\n",
    "slow_hands_df = hands_df.filter(pl.col(\"SPEED\") == \"slow\")"
   ]
  },
  {
   "cell_type": "markdown",
   "id": "ba61458f",
   "metadata": {},
   "source": [
    "### Bigram hands for Trained Participants"
   ]
  },
  {
   "cell_type": "code",
   "execution_count": null,
   "id": "8d00b2d6",
   "metadata": {},
   "outputs": [],
   "source": [
    "fig = ff.create_distplot(\n",
    "    [\n",
    "        trained_hands_df.filter(pl.col(\"BIGRAM_HAND\") == \"R\")[\"IKI\"].view().tolist(),\n",
    "        trained_hands_df.filter(pl.col(\"BIGRAM_HAND\") == \"L\")[\"IKI\"].view().tolist(),\n",
    "        trained_hands_df.filter(pl.col(\"BIGRAM_HAND\") == \"Alteration\")[\"IKI\"].view().tolist(),\n",
    "    ], group_labels=[\"Right\", \"Left\", \"Hand-alteration\"], show_rug=False, bin_size=10)\n",
    "\n",
    "\n",
    "fig.update_layout(template=\"none\", width=1600, height=1000, xaxis=dict(dtick=50), font=dict(size=18), \n",
    "                 legend=dict(\n",
    "                        yanchor=\"top\",\n",
    "                        y=0.99,\n",
    "                        xanchor=\"left\",\n",
    "                        x=0.8,\n",
    "                        font=dict(size=30)\n",
    "                    ), xaxis_title=\"Inter-Key Interval Time\", yaxis_title=\"Density\")\n",
    "# \n",
    "fig.update_xaxes(showgrid=True, range=[-220, 600])\n",
    "fig.show()"
   ]
  },
  {
   "cell_type": "markdown",
   "id": "d711b939",
   "metadata": {},
   "source": [
    "### Bigram hands for Untrained Participants"
   ]
  },
  {
   "cell_type": "code",
   "execution_count": null,
   "id": "25e0d439",
   "metadata": {},
   "outputs": [],
   "source": [
    "fig = ff.create_distplot(\n",
    "    [\n",
    "        untrained_hands_df.filter(pl.col(\"BIGRAM_HAND\") == \"R\")[\"IKI\"].view().tolist(),\n",
    "        untrained_hands_df.filter(pl.col(\"BIGRAM_HAND\") == \"L\")[\"IKI\"].view().tolist(),\n",
    "        untrained_hands_df.filter(pl.col(\"BIGRAM_HAND\") == \"Alteration\")[\"IKI\"].view().tolist(),\n",
    "    ], group_labels=[\"Right\", \"Left\", \"Hand-alteration\"], show_rug=False, bin_size=10)\n",
    "\n",
    "\n",
    "fig.update_layout(template=\"none\", width=1600, height=1000, xaxis=dict(dtick=50), font=dict(size=18), \n",
    "                 legend=dict(\n",
    "                        yanchor=\"top\",\n",
    "                        y=0.99,\n",
    "                        xanchor=\"left\",\n",
    "                        x=0.8,\n",
    "                        font=dict(size=30)\n",
    "                    ), xaxis_title=\"Inter-Key Interval Time\", yaxis_title=\"Density\")\n",
    "# \n",
    "fig.update_xaxes(showgrid=True, range=[-220, 600])\n",
    "fig.show()"
   ]
  },
  {
   "cell_type": "markdown",
   "id": "cf3a4a5a",
   "metadata": {},
   "source": [
    "### Bigram hands for Fast Participants"
   ]
  },
  {
   "cell_type": "code",
   "execution_count": null,
   "id": "fec02a4d",
   "metadata": {},
   "outputs": [],
   "source": [
    "fig = ff.create_distplot(\n",
    "    [\n",
    "        fast_hands_df.filter(pl.col(\"BIGRAM_HAND\") == \"R\")[\"IKI\"].view().tolist(),\n",
    "        fast_hands_df.filter(pl.col(\"BIGRAM_HAND\") == \"L\")[\"IKI\"].view().tolist(),\n",
    "        fast_hands_df.filter(pl.col(\"BIGRAM_HAND\") == \"Alteration\")[\"IKI\"].view().tolist(),\n",
    "    ], group_labels=[\"Right\", \"Left\", \"Hand-alteration\"], show_rug=False, bin_size=10)\n",
    "\n",
    "\n",
    "fig.update_layout(template=\"none\", width=1600, height=1000, xaxis=dict(dtick=50), font=dict(size=18), \n",
    "                 legend=dict(\n",
    "                        yanchor=\"top\",\n",
    "                        y=0.99,\n",
    "                        xanchor=\"left\",\n",
    "                        x=0.8,\n",
    "                        font=dict(size=30)\n",
    "                    ), xaxis_title=\"Inter-Key Interval Time\", yaxis_title=\"Density\")\n",
    "# \n",
    "fig.update_xaxes(showgrid=True, range=[-220, 600])\n",
    "fig.show()"
   ]
  },
  {
   "cell_type": "markdown",
   "id": "96669d27",
   "metadata": {},
   "source": [
    "### Bigram hands for Slow Participants"
   ]
  },
  {
   "cell_type": "code",
   "execution_count": null,
   "id": "22139218",
   "metadata": {},
   "outputs": [],
   "source": [
    "fig = ff.create_distplot(\n",
    "    [\n",
    "        slow_hands_df.filter(pl.col(\"BIGRAM_HAND\") == \"R\")[\"IKI\"].view().tolist(),\n",
    "        slow_hands_df.filter(pl.col(\"BIGRAM_HAND\") == \"L\")[\"IKI\"].view().tolist(),\n",
    "        slow_hands_df.filter(pl.col(\"BIGRAM_HAND\") == \"Alteration\")[\"IKI\"].view().tolist(),\n",
    "    ], group_labels=[\"Right\", \"Left\", \"Hand-alteration\"], show_rug=False, bin_size=10)\n",
    "\n",
    "\n",
    "fig.update_layout(template=\"none\", width=1600, height=1000, xaxis=dict(dtick=50), font=dict(size=18), \n",
    "                 legend=dict(\n",
    "                        yanchor=\"top\",\n",
    "                        y=0.99,\n",
    "                        xanchor=\"left\",\n",
    "                        x=0.8,\n",
    "                        font=dict(size=30)\n",
    "                    ), xaxis_title=\"Inter-Key Interval Time\", yaxis_title=\"Density\")\n",
    "# \n",
    "fig.update_xaxes(showgrid=True, range=[-220, 600])\n",
    "fig.show()"
   ]
  },
  {
   "cell_type": "code",
   "execution_count": 33,
   "id": "5091c2b4",
   "metadata": {},
   "outputs": [],
   "source": [
    "schema = {\"Name\": str, \"Median\": float, \"Mean\": float, \"Std\": float, \"Kurtosis\": float, \"Skewness\": float}\n",
    "statistics_df = pl.DataFrame(schema=schema)"
   ]
  },
  {
   "cell_type": "code",
   "execution_count": 34,
   "id": "8d539828",
   "metadata": {},
   "outputs": [],
   "source": [
    "def stats(df, name):\n",
    "    global statistics_df, schema\n",
    "    _vals = name, df.median(), df.mean(), df.std(), df.skew(), df.kurtosis()\n",
    "    statistics_df = statistics_df.extend(pl.DataFrame(np.array(_vals).reshape(-1, 1), schema=schema))"
   ]
  },
  {
   "cell_type": "markdown",
   "id": "352a56da",
   "metadata": {},
   "source": [
    "### Right hand statistics"
   ]
  },
  {
   "cell_type": "code",
   "execution_count": 35,
   "id": "5e047172",
   "metadata": {},
   "outputs": [
    {
     "data": {
      "text/html": [
       "<div><style>\n",
       ".dataframe > thead > tr > th,\n",
       ".dataframe > tbody > tr > td {\n",
       "  text-align: right;\n",
       "}\n",
       "</style>\n",
       "<small>shape: (10, 6)</small><table border=\"1\" class=\"dataframe\"><thead><tr><th>Name</th><th>Median</th><th>Mean</th><th>Std</th><th>Kurtosis</th><th>Skewness</th></tr><tr><td>str</td><td>f64</td><td>f64</td><td>f64</td><td>f64</td><td>f64</td></tr></thead><tbody><tr><td>&quot;right-hand&quot;</td><td>112.284958</td><td>132.183932</td><td>112.423479</td><td>1.584739</td><td>9.975195</td></tr><tr><td>&quot;right-hand-tra…</td><td>94.362289</td><td>116.920158</td><td>108.103944</td><td>2.068344</td><td>14.86997</td></tr><tr><td>&quot;right-hand-unt…</td><td>120.58545</td><td>138.946027</td><td>113.631916</td><td>1.409576</td><td>8.478411</td></tr><tr><td>&quot;right-hand-fas…</td><td>41.081481</td><td>39.187937</td><td>35.987181</td><td>-1.189714</td><td>5.052706</td></tr><tr><td>&quot;right-hand-slo…</td><td>136.435644</td><td>155.9518</td><td>112.973915</td><td>1.53679</td><td>11.139121</td></tr><tr><td>&quot;right-hand-r&quot;</td><td>99.0</td><td>116.548933</td><td>86.205739</td><td>16.668544</td><td>714.144893</td></tr><tr><td>&quot;right-hand-r-t…</td><td>97.222222</td><td>115.385826</td><td>88.347958</td><td>12.265427</td><td>289.964172</td></tr><tr><td>&quot;right-hand-r-u…</td><td>99.714286</td><td>117.064226</td><td>85.234828</td><td>18.834709</td><td>929.885132</td></tr><tr><td>&quot;right-hand-r-f…</td><td>80.882353</td><td>90.683573</td><td>54.656948</td><td>9.21948</td><td>150.832833</td></tr><tr><td>&quot;right-hand-r-s…</td><td>104.7</td><td>123.159285</td><td>91.392533</td><td>16.92588</td><td>700.345594</td></tr></tbody></table></div>"
      ],
      "text/plain": [
       "shape: (10, 6)\n",
       "┌────────────────────────┬────────────┬────────────┬────────────┬───────────┬────────────┐\n",
       "│ Name                   ┆ Median     ┆ Mean       ┆ Std        ┆ Kurtosis  ┆ Skewness   │\n",
       "│ ---                    ┆ ---        ┆ ---        ┆ ---        ┆ ---       ┆ ---        │\n",
       "│ str                    ┆ f64        ┆ f64        ┆ f64        ┆ f64       ┆ f64        │\n",
       "╞════════════════════════╪════════════╪════════════╪════════════╪═══════════╪════════════╡\n",
       "│ right-hand             ┆ 112.284958 ┆ 132.183932 ┆ 112.423479 ┆ 1.584739  ┆ 9.975195   │\n",
       "│ right-hand-trained     ┆ 94.362289  ┆ 116.920158 ┆ 108.103944 ┆ 2.068344  ┆ 14.86997   │\n",
       "│ right-hand-untrained   ┆ 120.58545  ┆ 138.946027 ┆ 113.631916 ┆ 1.409576  ┆ 8.478411   │\n",
       "│ right-hand-fast        ┆ 41.081481  ┆ 39.187937  ┆ 35.987181  ┆ -1.189714 ┆ 5.052706   │\n",
       "│ …                      ┆ …          ┆ …          ┆ …          ┆ …         ┆ …          │\n",
       "│ right-hand-r-trained   ┆ 97.222222  ┆ 115.385826 ┆ 88.347958  ┆ 12.265427 ┆ 289.964172 │\n",
       "│ right-hand-r-untrained ┆ 99.714286  ┆ 117.064226 ┆ 85.234828  ┆ 18.834709 ┆ 929.885132 │\n",
       "│ right-hand-r-fast      ┆ 80.882353  ┆ 90.683573  ┆ 54.656948  ┆ 9.21948   ┆ 150.832833 │\n",
       "│ right-hand-r-slow      ┆ 104.7      ┆ 123.159285 ┆ 91.392533  ┆ 16.92588  ┆ 700.345594 │\n",
       "└────────────────────────┴────────────┴────────────┴────────────┴───────────┴────────────┘"
      ]
     },
     "execution_count": 35,
     "metadata": {},
     "output_type": "execute_result"
    }
   ],
   "source": [
    "stats(hands_df.filter(pl.col(\"BIGRAM_HAND\") == \"R\")[\"IKI\"], \"right-hand\")\n",
    "stats(hands_df.filter((pl.col(\"BIGRAM_HAND\") == \"R\") & (pl.col(\"HAS_TAKEN_TYPING_COURSE\") == 1))[\"IKI\"], \"right-hand-trained\")\n",
    "stats(hands_df.filter((pl.col(\"BIGRAM_HAND\") == \"R\") & (pl.col(\"HAS_TAKEN_TYPING_COURSE\") == 0))[\"IKI\"], \"right-hand-untrained\")\n",
    "stats(hands_df.filter((pl.col(\"BIGRAM_HAND\") == \"R\") & (pl.col(\"SPEED\") == \"fast\"))[\"IKI\"], \"right-hand-fast\")\n",
    "stats(hands_df.filter((pl.col(\"BIGRAM_HAND\") == \"R\") & (pl.col(\"SPEED\") == \"slow\"))[\"IKI\"], \"right-hand-slow\")\n",
    "\n",
    "stats(hands_df.filter(pl.col(\"BIGRAM_HAND\") == \"R\")[\"IKI_REPETITION\"].fill_nan(None).fill_null(strategy=\"mean\"), \"right-hand-r\")\n",
    "stats(hands_df.filter((pl.col(\"BIGRAM_HAND\") == \"R\") & (pl.col(\"HAS_TAKEN_TYPING_COURSE\") == 1))[\"IKI_REPETITION\"].fill_nan(None).fill_null(strategy=\"mean\"), \"right-hand-r-trained\")\n",
    "stats(hands_df.filter((pl.col(\"BIGRAM_HAND\") == \"R\") & (pl.col(\"HAS_TAKEN_TYPING_COURSE\") == 0))[\"IKI_REPETITION\"].fill_nan(None).fill_null(strategy=\"mean\"), \"right-hand-r-untrained\")\n",
    "stats(hands_df.filter((pl.col(\"BIGRAM_HAND\") == \"R\") & (pl.col(\"SPEED\") == \"fast\"))[\"IKI_REPETITION\"].fill_nan(None).fill_null(strategy=\"mean\"), \"right-hand-r-fast\")\n",
    "stats(hands_df.filter((pl.col(\"BIGRAM_HAND\") == \"R\") & (pl.col(\"SPEED\") == \"slow\"))[\"IKI_REPETITION\"].fill_nan(None).fill_null(strategy=\"mean\"), \"right-hand-r-slow\")\n",
    "\n",
    "statistics_df"
   ]
  },
  {
   "cell_type": "markdown",
   "id": "8cb0fe68",
   "metadata": {},
   "source": [
    "### Left hand statistics"
   ]
  },
  {
   "cell_type": "code",
   "execution_count": 36,
   "id": "c63a5ee7",
   "metadata": {},
   "outputs": [
    {
     "data": {
      "text/html": [
       "<div><style>\n",
       ".dataframe > thead > tr > th,\n",
       ".dataframe > tbody > tr > td {\n",
       "  text-align: right;\n",
       "}\n",
       "</style>\n",
       "<small>shape: (20, 6)</small><table border=\"1\" class=\"dataframe\"><thead><tr><th>Name</th><th>Median</th><th>Mean</th><th>Std</th><th>Kurtosis</th><th>Skewness</th></tr><tr><td>str</td><td>f64</td><td>f64</td><td>f64</td><td>f64</td><td>f64</td></tr></thead><tbody><tr><td>&quot;right-hand&quot;</td><td>112.284958</td><td>132.183932</td><td>112.423479</td><td>1.584739</td><td>9.975195</td></tr><tr><td>&quot;right-hand-tra…</td><td>94.362289</td><td>116.920158</td><td>108.103944</td><td>2.068344</td><td>14.86997</td></tr><tr><td>&quot;right-hand-unt…</td><td>120.58545</td><td>138.946027</td><td>113.631916</td><td>1.409576</td><td>8.478411</td></tr><tr><td>&quot;right-hand-fas…</td><td>41.081481</td><td>39.187937</td><td>35.987181</td><td>-1.189714</td><td>5.052706</td></tr><tr><td>&quot;right-hand-slo…</td><td>136.435644</td><td>155.9518</td><td>112.973915</td><td>1.53679</td><td>11.139121</td></tr><tr><td>&quot;right-hand-r&quot;</td><td>99.0</td><td>116.548933</td><td>86.205739</td><td>16.668544</td><td>714.144893</td></tr><tr><td>&quot;right-hand-r-t…</td><td>97.222222</td><td>115.385826</td><td>88.347958</td><td>12.265427</td><td>289.964172</td></tr><tr><td>&quot;right-hand-r-u…</td><td>99.714286</td><td>117.064226</td><td>85.234828</td><td>18.834709</td><td>929.885132</td></tr><tr><td>&quot;right-hand-r-f…</td><td>80.882353</td><td>90.683573</td><td>54.656948</td><td>9.21948</td><td>150.832833</td></tr><tr><td>&quot;right-hand-r-s…</td><td>104.7</td><td>123.159285</td><td>91.392533</td><td>16.92588</td><td>700.345594</td></tr><tr><td>&quot;left-hand&quot;</td><td>81.592117</td><td>98.105973</td><td>87.309194</td><td>2.34689</td><td>18.986074</td></tr><tr><td>&quot;left-hand-trai…</td><td>70.728113</td><td>88.150402</td><td>83.433767</td><td>2.668449</td><td>17.411768</td></tr><tr><td>&quot;left-hand-untr…</td><td>86.7066</td><td>102.51645</td><td>88.615709</td><td>2.235917</td><td>19.744101</td></tr><tr><td>&quot;left-hand-fast…</td><td>27.152381</td><td>29.696867</td><td>28.33379</td><td>0.392013</td><td>0.511494</td></tr><tr><td>&quot;left-hand-slow…</td><td>98.93617</td><td>115.589938</td><td>88.680481</td><td>2.387418</td><td>20.636622</td></tr><tr><td>&quot;left-hand-r&quot;</td><td>88.555556</td><td>105.514264</td><td>87.197216</td><td>37.939618</td><td>4406.785962</td></tr><tr><td>&quot;left-hand-r-tr…</td><td>87.4</td><td>101.920541</td><td>70.664582</td><td>14.79283</td><td>540.529096</td></tr><tr><td>&quot;left-hand-r-un…</td><td>89.125</td><td>107.106651</td><td>93.548776</td><td>41.4898</td><td>4719.613932</td></tr><tr><td>&quot;left-hand-r-fa…</td><td>77.375</td><td>81.21134</td><td>29.892856</td><td>14.962803</td><td>722.483327</td></tr><tr><td>&quot;left-hand-r-sl…</td><td>92.666667</td><td>111.724691</td><td>95.54528</td><td>35.920058</td><td>3826.899435</td></tr></tbody></table></div>"
      ],
      "text/plain": [
       "shape: (20, 6)\n",
       "┌───────────────────────┬────────────┬────────────┬────────────┬───────────┬─────────────┐\n",
       "│ Name                  ┆ Median     ┆ Mean       ┆ Std        ┆ Kurtosis  ┆ Skewness    │\n",
       "│ ---                   ┆ ---        ┆ ---        ┆ ---        ┆ ---       ┆ ---         │\n",
       "│ str                   ┆ f64        ┆ f64        ┆ f64        ┆ f64       ┆ f64         │\n",
       "╞═══════════════════════╪════════════╪════════════╪════════════╪═══════════╪═════════════╡\n",
       "│ right-hand            ┆ 112.284958 ┆ 132.183932 ┆ 112.423479 ┆ 1.584739  ┆ 9.975195    │\n",
       "│ right-hand-trained    ┆ 94.362289  ┆ 116.920158 ┆ 108.103944 ┆ 2.068344  ┆ 14.86997    │\n",
       "│ right-hand-untrained  ┆ 120.58545  ┆ 138.946027 ┆ 113.631916 ┆ 1.409576  ┆ 8.478411    │\n",
       "│ right-hand-fast       ┆ 41.081481  ┆ 39.187937  ┆ 35.987181  ┆ -1.189714 ┆ 5.052706    │\n",
       "│ …                     ┆ …          ┆ …          ┆ …          ┆ …         ┆ …           │\n",
       "│ left-hand-r-trained   ┆ 87.4       ┆ 101.920541 ┆ 70.664582  ┆ 14.79283  ┆ 540.529096  │\n",
       "│ left-hand-r-untrained ┆ 89.125     ┆ 107.106651 ┆ 93.548776  ┆ 41.4898   ┆ 4719.613932 │\n",
       "│ left-hand-r-fast      ┆ 77.375     ┆ 81.21134   ┆ 29.892856  ┆ 14.962803 ┆ 722.483327  │\n",
       "│ left-hand-r-slow      ┆ 92.666667  ┆ 111.724691 ┆ 95.54528   ┆ 35.920058 ┆ 3826.899435 │\n",
       "└───────────────────────┴────────────┴────────────┴────────────┴───────────┴─────────────┘"
      ]
     },
     "execution_count": 36,
     "metadata": {},
     "output_type": "execute_result"
    }
   ],
   "source": [
    "stats(hands_df.filter(pl.col(\"BIGRAM_HAND\") == \"L\")[\"IKI\"], \"left-hand\")\n",
    "stats(hands_df.filter((pl.col(\"BIGRAM_HAND\") == \"L\") & (pl.col(\"HAS_TAKEN_TYPING_COURSE\") == 1))[\"IKI\"], \"left-hand-trained\")\n",
    "stats(hands_df.filter((pl.col(\"BIGRAM_HAND\") == \"L\") & (pl.col(\"HAS_TAKEN_TYPING_COURSE\") == 0))[\"IKI\"], \"left-hand-untrained\")\n",
    "stats(hands_df.filter((pl.col(\"BIGRAM_HAND\") == \"L\") & (pl.col(\"SPEED\") == \"fast\"))[\"IKI\"], \"left-hand-fast\")\n",
    "stats(hands_df.filter((pl.col(\"BIGRAM_HAND\") == \"L\") & (pl.col(\"SPEED\") == \"slow\"))[\"IKI\"], \"left-hand-slow\")\n",
    "\n",
    "stats(hands_df.filter(pl.col(\"BIGRAM_HAND\") == \"L\")[\"IKI_REPETITION\"].fill_nan(None).fill_null(strategy=\"mean\"), \"left-hand-r\")\n",
    "stats(hands_df.filter((pl.col(\"BIGRAM_HAND\") == \"L\") & (pl.col(\"HAS_TAKEN_TYPING_COURSE\") == 1))[\"IKI_REPETITION\"].fill_nan(None).fill_null(strategy=\"mean\"), \"left-hand-r-trained\")\n",
    "stats(hands_df.filter((pl.col(\"BIGRAM_HAND\") == \"L\") & (pl.col(\"HAS_TAKEN_TYPING_COURSE\") == 0))[\"IKI_REPETITION\"].fill_nan(None).fill_null(strategy=\"mean\"), \"left-hand-r-untrained\")\n",
    "stats(hands_df.filter((pl.col(\"BIGRAM_HAND\") == \"L\") & (pl.col(\"SPEED\") == \"fast\"))[\"IKI_REPETITION\"].fill_nan(None).fill_null(strategy=\"mean\"), \"left-hand-r-fast\")\n",
    "stats(hands_df.filter((pl.col(\"BIGRAM_HAND\") == \"L\") & (pl.col(\"SPEED\") == \"slow\"))[\"IKI_REPETITION\"].fill_nan(None).fill_null(strategy=\"mean\"), \"left-hand-r-slow\")\n",
    "\n",
    "statistics_df"
   ]
  },
  {
   "cell_type": "markdown",
   "id": "24dad683",
   "metadata": {},
   "source": [
    "### Hand-alteration statistics"
   ]
  },
  {
   "cell_type": "code",
   "execution_count": 37,
   "id": "eca17952",
   "metadata": {},
   "outputs": [
    {
     "data": {
      "text/html": [
       "<div><style>\n",
       ".dataframe > thead > tr > th,\n",
       ".dataframe > tbody > tr > td {\n",
       "  text-align: right;\n",
       "}\n",
       "</style>\n",
       "<small>shape: (25, 6)</small><table border=\"1\" class=\"dataframe\"><thead><tr><th>Name</th><th>Median</th><th>Mean</th><th>Std</th><th>Kurtosis</th><th>Skewness</th></tr><tr><td>str</td><td>f64</td><td>f64</td><td>f64</td><td>f64</td><td>f64</td></tr></thead><tbody><tr><td>&quot;right-hand&quot;</td><td>112.284958</td><td>132.183932</td><td>112.423479</td><td>1.584739</td><td>9.975195</td></tr><tr><td>&quot;right-hand-tra…</td><td>94.362289</td><td>116.920158</td><td>108.103944</td><td>2.068344</td><td>14.86997</td></tr><tr><td>&quot;right-hand-unt…</td><td>120.58545</td><td>138.946027</td><td>113.631916</td><td>1.409576</td><td>8.478411</td></tr><tr><td>&quot;right-hand-fas…</td><td>41.081481</td><td>39.187937</td><td>35.987181</td><td>-1.189714</td><td>5.052706</td></tr><tr><td>&quot;right-hand-slo…</td><td>136.435644</td><td>155.9518</td><td>112.973915</td><td>1.53679</td><td>11.139121</td></tr><tr><td>&quot;right-hand-r&quot;</td><td>99.0</td><td>116.548933</td><td>86.205739</td><td>16.668544</td><td>714.144893</td></tr><tr><td>&quot;right-hand-r-t…</td><td>97.222222</td><td>115.385826</td><td>88.347958</td><td>12.265427</td><td>289.964172</td></tr><tr><td>&quot;right-hand-r-u…</td><td>99.714286</td><td>117.064226</td><td>85.234828</td><td>18.834709</td><td>929.885132</td></tr><tr><td>&quot;right-hand-r-f…</td><td>80.882353</td><td>90.683573</td><td>54.656948</td><td>9.21948</td><td>150.832833</td></tr><tr><td>&quot;right-hand-r-s…</td><td>104.7</td><td>123.159285</td><td>91.392533</td><td>16.92588</td><td>700.345594</td></tr><tr><td>&quot;left-hand&quot;</td><td>81.592117</td><td>98.105973</td><td>87.309194</td><td>2.34689</td><td>18.986074</td></tr><tr><td>&quot;left-hand-trai…</td><td>70.728113</td><td>88.150402</td><td>83.433767</td><td>2.668449</td><td>17.411768</td></tr><tr><td>&quot;left-hand-untr…</td><td>86.7066</td><td>102.51645</td><td>88.615709</td><td>2.235917</td><td>19.744101</td></tr><tr><td>&quot;left-hand-fast…</td><td>27.152381</td><td>29.696867</td><td>28.33379</td><td>0.392013</td><td>0.511494</td></tr><tr><td>&quot;left-hand-slow…</td><td>98.93617</td><td>115.589938</td><td>88.680481</td><td>2.387418</td><td>20.636622</td></tr><tr><td>&quot;left-hand-r&quot;</td><td>88.555556</td><td>105.514264</td><td>87.197216</td><td>37.939618</td><td>4406.785962</td></tr><tr><td>&quot;left-hand-r-tr…</td><td>87.4</td><td>101.920541</td><td>70.664582</td><td>14.79283</td><td>540.529096</td></tr><tr><td>&quot;left-hand-r-un…</td><td>89.125</td><td>107.106651</td><td>93.548776</td><td>41.4898</td><td>4719.613932</td></tr><tr><td>&quot;left-hand-r-fa…</td><td>77.375</td><td>81.21134</td><td>29.892856</td><td>14.962803</td><td>722.483327</td></tr><tr><td>&quot;left-hand-r-sl…</td><td>92.666667</td><td>111.724691</td><td>95.54528</td><td>35.920058</td><td>3826.899435</td></tr><tr><td>&quot;hand-alt&quot;</td><td>76.802176</td><td>105.26109</td><td>107.32876</td><td>2.508014</td><td>14.591782</td></tr><tr><td>&quot;hand-alt-train…</td><td>61.297361</td><td>87.961519</td><td>101.251385</td><td>2.906434</td><td>17.350847</td></tr><tr><td>&quot;hand-alt-untra…</td><td>84.86371</td><td>112.925076</td><td>109.040426</td><td>2.392827</td><td>14.019771</td></tr><tr><td>&quot;hand-alt-fast&quot;</td><td>19.280769</td><td>18.573963</td><td>22.8364</td><td>-0.235815</td><td>0.476062</td></tr><tr><td>&quot;hand-alt-slow&quot;</td><td>98.593607</td><td>127.416542</td><td>109.173563</td><td>2.530031</td><td>15.182492</td></tr></tbody></table></div>"
      ],
      "text/plain": [
       "shape: (25, 6)\n",
       "┌──────────────────────┬────────────┬────────────┬────────────┬───────────┬───────────┐\n",
       "│ Name                 ┆ Median     ┆ Mean       ┆ Std        ┆ Kurtosis  ┆ Skewness  │\n",
       "│ ---                  ┆ ---        ┆ ---        ┆ ---        ┆ ---       ┆ ---       │\n",
       "│ str                  ┆ f64        ┆ f64        ┆ f64        ┆ f64       ┆ f64       │\n",
       "╞══════════════════════╪════════════╪════════════╪════════════╪═══════════╪═══════════╡\n",
       "│ right-hand           ┆ 112.284958 ┆ 132.183932 ┆ 112.423479 ┆ 1.584739  ┆ 9.975195  │\n",
       "│ right-hand-trained   ┆ 94.362289  ┆ 116.920158 ┆ 108.103944 ┆ 2.068344  ┆ 14.86997  │\n",
       "│ right-hand-untrained ┆ 120.58545  ┆ 138.946027 ┆ 113.631916 ┆ 1.409576  ┆ 8.478411  │\n",
       "│ right-hand-fast      ┆ 41.081481  ┆ 39.187937  ┆ 35.987181  ┆ -1.189714 ┆ 5.052706  │\n",
       "│ …                    ┆ …          ┆ …          ┆ …          ┆ …         ┆ …         │\n",
       "│ hand-alt-trained     ┆ 61.297361  ┆ 87.961519  ┆ 101.251385 ┆ 2.906434  ┆ 17.350847 │\n",
       "│ hand-alt-untrained   ┆ 84.86371   ┆ 112.925076 ┆ 109.040426 ┆ 2.392827  ┆ 14.019771 │\n",
       "│ hand-alt-fast        ┆ 19.280769  ┆ 18.573963  ┆ 22.8364    ┆ -0.235815 ┆ 0.476062  │\n",
       "│ hand-alt-slow        ┆ 98.593607  ┆ 127.416542 ┆ 109.173563 ┆ 2.530031  ┆ 15.182492 │\n",
       "└──────────────────────┴────────────┴────────────┴────────────┴───────────┴───────────┘"
      ]
     },
     "execution_count": 37,
     "metadata": {},
     "output_type": "execute_result"
    }
   ],
   "source": [
    "stats(hands_df.filter(pl.col(\"BIGRAM_HAND\") == \"Alteration\")[\"IKI\"], \"hand-alt\")\n",
    "stats(hands_df.filter((pl.col(\"BIGRAM_HAND\") == \"Alteration\") & (pl.col(\"HAS_TAKEN_TYPING_COURSE\") == 1))[\"IKI\"], \"hand-alt-trained\")\n",
    "stats(hands_df.filter((pl.col(\"BIGRAM_HAND\") == \"Alteration\") & (pl.col(\"HAS_TAKEN_TYPING_COURSE\") == 0))[\"IKI\"], \"hand-alt-untrained\")\n",
    "stats(hands_df.filter((pl.col(\"BIGRAM_HAND\") == \"Alteration\") & (pl.col(\"SPEED\") == \"fast\"))[\"IKI\"], \"hand-alt-fast\")\n",
    "stats(hands_df.filter((pl.col(\"BIGRAM_HAND\") == \"Alteration\") & (pl.col(\"SPEED\") == \"slow\"))[\"IKI\"], \"hand-alt-slow\")\n",
    "statistics_df"
   ]
  },
  {
   "cell_type": "code",
   "execution_count": null,
   "id": "adf77b80",
   "metadata": {},
   "outputs": [],
   "source": []
  }
 ],
 "metadata": {
  "kernelspec": {
   "display_name": "python3.10.9",
   "language": "python",
   "name": "python3"
  },
  "language_info": {
   "codemirror_mode": {
    "name": "ipython",
    "version": 3
   },
   "file_extension": ".py",
   "mimetype": "text/x-python",
   "name": "python",
   "nbconvert_exporter": "python",
   "pygments_lexer": "ipython3",
   "version": "3.10.11"
  }
 },
 "nbformat": 4,
 "nbformat_minor": 5
}
