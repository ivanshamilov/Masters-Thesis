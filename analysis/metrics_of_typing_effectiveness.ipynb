{
 "cells": [
  {
   "cell_type": "code",
   "execution_count": null,
   "id": "163187cf",
   "metadata": {},
   "outputs": [],
   "source": [
    "import glob\n",
    "import os\n",
    "import re\n",
    "import json\n",
    "import itertools\n",
    "import warnings\n",
    "\n",
    "import pandas as pd\n",
    "import torch\n",
    "import numpy as np\n",
    "import matplotlib.pyplot as plt\n",
    "import seaborn as sns\n",
    "\n",
    "import plotly.express as px\n",
    "import plotly.graph_objects as go\n",
    "import plotly.figure_factory as ff\n",
    "from plotly.offline import init_notebook_mode\n",
    "\n",
    "from scipy import stats as st\n",
    "\n",
    "from pathlib import Path\n",
    "\n",
    "import polars as pl\n",
    "from polars.exceptions import ColumnNotFoundError, ComputeError\n",
    "\n",
    "from typing import Union, List\n",
    "\n",
    "from helpers import *\n",
    "\n",
    "warnings.filterwarnings(\"ignore\")\n",
    "init_notebook_mode()"
   ]
  },
  {
   "cell_type": "code",
   "execution_count": null,
   "id": "861ed545",
   "metadata": {},
   "outputs": [],
   "source": [
    "from IPython.core.display import display, HTML\n",
    "display(HTML(\"<style>.container { width:95% !important; }</style>\"))"
   ]
  },
  {
   "cell_type": "markdown",
   "id": "ded860fc",
   "metadata": {},
   "source": [
    "## Check DATA\n",
    "\n",
    "The metadata_participants.txt contains demographics and derived metrics for each participant.\n",
    "The column names are described as follows:\n",
    "<table>\n",
    "    <tr><td>PARTICIPANT_ID</td><td>Unique ID of participant</td></tr>\n",
    "    <tr><td>AGE</td><td>Participant's age</td></tr>\n",
    "    <tr><td>GENDER</td><td>Participant's gender</td></tr>\n",
    "    <tr><td>HAS_TAKEN_TYPING_COURSE</td><td>Whether the participant has taken a typing course (1) or not (0)</td></tr>\n",
    "    <tr><td>COUNTRY</td><td>Country from which the participant has taken the study</td></tr>\n",
    "    <tr><td>KEYBOARD_LAYOUT</td><td>QWERTY, AZERTY, QWERTZ or other layout</td></tr>\n",
    "    <tr><td>NATIVE_LANGUAGE</td><td>Native language of participant</td></tr>\n",
    "    <tr><td>FINGERS</td><td>choice between 1-2, 3-4, 5-6, 7-8 and 9-10 fingers used</td></tr>\n",
    "    <tr><td>TIME_SPENT_TYPING</td><td>Number of hours spent typing per day</td></tr>\n",
    "    <tr><td>KEYBOARD_TYPE</td><td>full (desktop), laptop, small (physical) or (on-screen) touch keyboard</td></tr>\n",
    "    <tr><td>ERROR_RATE(%)</td><td>Average error rate</td></tr>\n",
    "    <tr><td>AVG_WPM</td><td>Average words per minute</td></tr>\n",
    "    <tr><td>AVG_IKI</td><td>Average inter-key interval</td></tr>\n",
    "    <tr><td>ROLLOVER</td><td>Average rollover ratio</td></tr>\n",
    "    <tr><td>KSPC</td><td>Average Keystrokes per Character</td></tr>\n",
    "    <tr><td>AVG_KEYPRESS</td><td>Average keypress duration</td></tr>\n",
    "</table>\n",
    "\n",
    "Files named number_keystrokes.txt are the keystroke-by-keystroke logs for all test sentences transcribed by the participant ID = number.<br>\n",
    "The column names are described as follows: <br>\n",
    "    \n",
    " <table>\n",
    "    <tr><td>PARTICIPANT_ID</td><td>Unique ID of participant</td></tr>\n",
    "    <tr><td>TEST_SECTION_ID</td><td>Unique ID of sentence within a participant's test</td></tr>\n",
    "    <tr><td>SENTENCE</td><td>Presented sentence</td></tr>\n",
    "    <tr><td>USER_INPUT</td><td>Transcribed sentence</td></tr>\n",
    "    <tr><td>KEYSTROKE_ID</td><td>Unique keystroke id (across all participants)</td></tr>\n",
    "    <tr><td>PRESS_TIME</td><td>Timestamp when the key was pressed</td></tr>\n",
    "    <tr><td>RELEASE_TIME</td><td>Timestamp when the key was released</td></tr>\n",
    "    <tr><td>LETTER</td><td>String representation of the pressed key</td></tr>\n",
    "    <tr><td>KEYCODE</td><td>JavaScript keycode of the pressed key</td></tr>\n",
    "</table>\n",
    "\n",
    "For some users, the typed letter was not logged correctly. Instead, the corresponding javascript keycode can be used. <br>"
   ]
  },
  {
   "cell_type": "markdown",
   "id": "58cf2ef0",
   "metadata": {},
   "source": [
    "### Features to calculate \n",
    "Link: https://towardsdatascience.com/keystroke-dynamics-analysis-and-prediction-part-1-eda-3fe2d25bac04 <br>\n",
    "- **Hold Time (aka Dwell Time)**: Time the key is pressed\n",
    "- **Press-Press Time**: Time between the presses of 2 consecutive keys\n",
    "- **Release-Press Time (aka Flight Time or Inter-Key Inteval or IKI)**: Time to 'fly' from one key to another (negative in case of rollover)\n",
    "- **Release-Release Time**: Time between the releases of 2 consecutive keys  \n",
    "\n",
    "**ROLLOVER** - RELEASE_PRESS_TIME IS NEGATIVE!!!"
   ]
  },
  {
   "cell_type": "code",
   "execution_count": null,
   "id": "a92d7366",
   "metadata": {},
   "outputs": [],
   "source": [
    "df = read_data_for_participant(145007)\n",
    "df.head(5)"
   ]
  },
  {
   "cell_type": "markdown",
   "id": "5044f2cf",
   "metadata": {},
   "source": [
    "### Getting information on which hand is used to type a specific key (how-we-type dataset)"
   ]
  },
  {
   "cell_type": "code",
   "execution_count": null,
   "id": "2b6f6e13",
   "metadata": {},
   "outputs": [],
   "source": [
    "hwt_df = pl.DataFrame()\n",
    "\n",
    "for i in os.listdir(howwetype):\n",
    "    if i.startswith(\".\"):\n",
    "      continue \n",
    "    df = pl.read_csv(os.path.join(howwetype, i), sep=\"\\t\")\n",
    "    hwt_df = pl.concat([hwt_df, df[[\"key_symbol\", \"finger\"]]])"
   ]
  },
  {
   "cell_type": "code",
   "execution_count": null,
   "id": "8d92325d",
   "metadata": {},
   "outputs": [],
   "source": [
    "hwt = hwt_df.with_columns([\n",
    "    pl.col(\"finger\").str.split(\"_\"),\n",
    "]).apply(lambda x: (x[0], x[1][0]))\n",
    "\n",
    "hwt.columns = [\"key\", \"hand\"]"
   ]
  },
  {
   "cell_type": "code",
   "execution_count": null,
   "id": "9f0a6154",
   "metadata": {},
   "outputs": [],
   "source": [
    "hwt = hwt.groupby(\"key\", maintain_order=True).agg([\n",
    "          pl.col(\"hand\").apply(lambda x: st.mode(x).mode[0]).alias(\"hand\"),\n",
    "      ])"
   ]
  },
  {
   "cell_type": "code",
   "execution_count": null,
   "id": "4b1174cc",
   "metadata": {},
   "outputs": [],
   "source": [
    "hwt"
   ]
  },
  {
   "cell_type": "markdown",
   "id": "850c347b",
   "metadata": {},
   "source": [
    "## Creating Bigrams"
   ]
  },
  {
   "cell_type": "markdown",
   "id": "e9cdcfae",
   "metadata": {},
   "source": [
    "**While creating most common bigrams, space and shift wont be taken into consideration - only characters / symbols**"
   ]
  },
  {
   "cell_type": "code",
   "execution_count": null,
   "id": "4991bcb0",
   "metadata": {},
   "outputs": [],
   "source": [
    "mapper = Mapper()\n",
    "participant_ids = find_all_participants(MAIN_DIR)"
   ]
  },
  {
   "cell_type": "code",
   "execution_count": null,
   "id": "06e18e76",
   "metadata": {},
   "outputs": [],
   "source": [
    "d = read_data_for_participant(participant_ids[2])\n",
    "ignore_keys = [mapper.get_code_from_key(\"<SoS>\"), mapper.get_code_from_key(\"shift\"), mapper.get_code_from_key(\"space\")]\n",
    "create_bigrams(d, ignore_keys=ignore_keys)"
   ]
  },
  {
   "cell_type": "markdown",
   "id": "5a0faae4",
   "metadata": {},
   "source": [
    "## Big Data"
   ]
  },
  {
   "cell_type": "code",
   "execution_count": null,
   "id": "ba628a0f",
   "metadata": {},
   "outputs": [],
   "source": [
    "BIG_DATA_DIR = \"/Users/ivanshamilov/Uni/Master's/S3/Masters-Thesis/data/big_data/Keystrokes/files\"\n",
    "\n",
    "big_metadata = pl.read_csv(f\"{BIG_DATA_DIR}/metadata_participants.txt\", sep=\"\\t\")\n",
    "big_metadata = big_metadata.filter(pl.col(\"PARTICIPANT_ID\") != 3)\n",
    "print(big_metadata.shape)\n",
    "big_metadata.head()"
   ]
  },
  {
   "cell_type": "code",
   "execution_count": null,
   "id": "8d43d12e",
   "metadata": {
    "scrolled": true
   },
   "outputs": [],
   "source": [
    "with open(f\"{BIG_DATA_DIR}/readme.txt\", \"r\") as f:\n",
    "    content = f.read()\n",
    "    \n",
    "print(content)"
   ]
  },
  {
   "cell_type": "markdown",
   "id": "065051f1",
   "metadata": {},
   "source": [
    "### Categorization of participants\n",
    "\n",
    "For the sake of analysis, participants will be categorized into: slow / fast typists, trained / untrained typists.\n",
    "\n",
    "Participant will be considered 'fast', if his/her WPM is bigger than 80% of other typist on the dataset. Others - 'slow'' "
   ]
  },
  {
   "cell_type": "code",
   "execution_count": null,
   "id": "98435599",
   "metadata": {},
   "outputs": [],
   "source": [
    "fast_typist_threshold = big_metadata[\"AVG_WPM_15\"].quantile(0.8)\n",
    "\n",
    "big_metadata = big_metadata.select([\n",
    "    pl.col(\"*\"),\n",
    "    pl.when(pl.col(\"AVG_WPM_15\") > fast_typist_threshold)\n",
    "    .then(\"fast\")\n",
    "    .otherwise(\"slow\").alias(\"SPEED\")\n",
    "])"
   ]
  },
  {
   "cell_type": "code",
   "execution_count": null,
   "id": "eee00d4c",
   "metadata": {},
   "outputs": [],
   "source": [
    "fast_typist_threshold"
   ]
  },
  {
   "cell_type": "code",
   "execution_count": null,
   "id": "31e45ba6",
   "metadata": {},
   "outputs": [],
   "source": [
    "# only qwerty keyboard will be used \n",
    "print(big_metadata[\"LAYOUT\"].value_counts())\n",
    "\n",
    "big_metadata = big_metadata.filter(pl.col(\"LAYOUT\") == \"qwerty\")\n",
    "big_metadata.shape"
   ]
  },
  {
   "cell_type": "code",
   "execution_count": null,
   "id": "5eea38e6",
   "metadata": {},
   "outputs": [],
   "source": [
    "# only full (desktop) and laptop keyboard type will be used\n",
    "print(big_metadata[\"KEYBOARD_TYPE\"].value_counts())\n",
    "big_metadata = big_metadata.filter((pl.col(\"KEYBOARD_TYPE\") == \"full\") | (pl.col(\"KEYBOARD_TYPE\") == \"laptop\"))\n",
    "print(big_metadata[\"KEYBOARD_TYPE\"].value_counts())"
   ]
  },
  {
   "cell_type": "code",
   "execution_count": null,
   "id": "b599126a",
   "metadata": {},
   "outputs": [],
   "source": [
    "# set upper bound (regular office time + 4 hours after) and lower bound for TIME_SPENT_TYPING \n",
    "upper_bound_tst = 8 + 4\n",
    "lower_bound_tst = 0\n",
    "\n",
    "print(big_metadata.shape)\n",
    "big_metadata = big_metadata.filter((pl.col(\"TIME_SPENT_TYPING\") <= upper_bound_tst) & (pl.col(\"TIME_SPENT_TYPING\") >= lower_bound_tst))\n",
    "print(big_metadata.shape)"
   ]
  },
  {
   "cell_type": "code",
   "execution_count": null,
   "id": "8bc603ba",
   "metadata": {},
   "outputs": [],
   "source": [
    "participant_ids = big_metadata[\"PARTICIPANT_ID\"].view().tolist()\n",
    "len(participant_ids)"
   ]
  },
  {
   "cell_type": "markdown",
   "id": "2a56e4ac",
   "metadata": {},
   "source": [
    "**Keypress values were missing in metadata**"
   ]
  },
  {
   "cell_type": "code",
   "execution_count": null,
   "id": "0c607e1c",
   "metadata": {},
   "outputs": [],
   "source": [
    "participant_ids = find_all_participants(BIG_DATA_DIR)"
   ]
  },
  {
   "cell_type": "code",
   "execution_count": null,
   "id": "e4d4ad69",
   "metadata": {},
   "outputs": [],
   "source": [
    "pid_keypress = pl.DataFrame()\n",
    "\n",
    "for i, pid in enumerate(participant_ids):\n",
    "    if i % 1000 == 0:\n",
    "        print(f\"File {i:7d} of {len(participant_ids)}\")\n",
    "    try: \n",
    "        df = pl.read_csv(os.path.join(BIG_DATA_DIR, f\"{pid}_keystrokes.txt\"), sep=\"\\t\", columns=[\"PRESS_TIME\", \"RELEASE_TIME\"], infer_schema_length=10000)\n",
    "        hold_time = df.with_columns([(pl.col(\"RELEASE_TIME\") - pl.col(\"PRESS_TIME\")).alias(\"HOLD_TIME\")])[\"HOLD_TIME\"]\n",
    "        pid_keypress = pl.concat([pid_keypress, pl.DataFrame([[int(pid)], [hold_time.mean()]])])\n",
    "    except FileNotFoundError:\n",
    "        continue"
   ]
  },
  {
   "cell_type": "code",
   "execution_count": null,
   "id": "89d15a3f",
   "metadata": {},
   "outputs": [],
   "source": [
    "pid_keypress.columns = [\"PARTICIPANT_ID\", \"AVG_KEYPRESS\"]\n",
    "pid_keypress"
   ]
  },
  {
   "cell_type": "code",
   "execution_count": null,
   "id": "d58b5afa",
   "metadata": {},
   "outputs": [],
   "source": [
    "big_metadata = big_metadata.join(pid_keypress, on=\"PARTICIPANT_ID\", how=\"left\")\n",
    "print(big_metadata[\"AVG_KEYPRESS\"].null_count())\n",
    "big_metadata.write_csv(\"data/preprocessed_big_metadata.csv\")"
   ]
  },
  {
   "cell_type": "code",
   "execution_count": null,
   "id": "57d6736d",
   "metadata": {},
   "outputs": [],
   "source": [
    "big_metadata = pl.read_csv(\"data/preprocessed_big_metadata.csv\")\n",
    "big_metadata"
   ]
  },
  {
   "cell_type": "code",
   "execution_count": null,
   "id": "db952221",
   "metadata": {},
   "outputs": [],
   "source": [
    "big_metadata_trained = big_metadata.filter(pl.col(\"HAS_TAKEN_TYPING_COURSE\") == 1)\n",
    "big_metadata_untrained = big_metadata.filter(pl.col(\"HAS_TAKEN_TYPING_COURSE\") == 0)\n",
    "\n",
    "big_metadata_fast = big_metadata.filter(pl.col(\"SPEED\") == \"fast\")\n",
    "big_metadata_slow = big_metadata.filter(pl.col(\"SPEED\") == \"slow\")\n",
    "\n",
    "big_metadata_trained.shape, big_metadata_untrained.shape, big_metadata_fast.shape, big_metadata_slow.shape"
   ]
  },
  {
   "cell_type": "markdown",
   "id": "461f548a",
   "metadata": {},
   "source": [
    "## Data Analysis"
   ]
  },
  {
   "cell_type": "markdown",
   "id": "171e4ee2",
   "metadata": {},
   "source": [
    "## Metrics of Effectiveness"
   ]
  },
  {
   "cell_type": "code",
   "execution_count": null,
   "id": "9493e71a",
   "metadata": {},
   "outputs": [],
   "source": [
    "def statistics(data):\n",
    "    print(data.describe())\n",
    "    print(\"Fisher's kurtosis: \", data.kurtosis())\n",
    "    print(\"Skewness: \", data.skew())"
   ]
  },
  {
   "cell_type": "markdown",
   "id": "d8ee078a",
   "metadata": {},
   "source": [
    "### WPM distribution"
   ]
  },
  {
   "cell_type": "code",
   "execution_count": null,
   "id": "7db7bce7",
   "metadata": {},
   "outputs": [],
   "source": [
    "fig = ff.create_distplot([big_metadata[\"AVG_WPM_15\"].view().tolist()], group_labels=[\"AVG_WPM_15\"], bin_size=3, show_rug=False, colors=[\"orange\"])\n",
    "fig.update_layout(template=\"none\", showlegend=False, width=1000, height=800, xaxis=dict(dtick=10), font=dict(size=16))\n",
    "fig.update_xaxes(showgrid=True)\n",
    "fig.show()"
   ]
  },
  {
   "cell_type": "markdown",
   "id": "a4da8888",
   "metadata": {},
   "source": [
    "### WPM Trained/Untrained"
   ]
  },
  {
   "cell_type": "code",
   "execution_count": null,
   "id": "b9a81fe6",
   "metadata": {
    "scrolled": false
   },
   "outputs": [],
   "source": [
    "fig = ff.create_distplot([\n",
    "        big_metadata_trained[\"AVG_WPM_15\"].view().tolist(),\n",
    "        big_metadata_untrained[\"AVG_WPM_15\"].view().tolist(),\n",
    "      ], group_labels=[\"Trained\", \"Untrained\"], bin_size=3, show_rug=False, colors=[\"rgba(255, 165, 0, 0.9)\", \"rgba(0, 0, 255, 0.3)\"])\n",
    "\n",
    "fig.update_layout(template=\"none\", width=1200, height=1000, xaxis=dict(dtick=10), font=dict(size=18), legend=dict(\n",
    "    yanchor=\"top\",\n",
    "    y=0.99,\n",
    "    xanchor=\"left\",\n",
    "    x=0.8,\n",
    "    font=dict(size=30)\n",
    "))\n",
    "\n",
    "fig.update_xaxes(showgrid=True)\n",
    "fig.show()"
   ]
  },
  {
   "cell_type": "markdown",
   "id": "7188a40e",
   "metadata": {},
   "source": [
    "### WPM Fast/Slow"
   ]
  },
  {
   "cell_type": "code",
   "execution_count": null,
   "id": "23b58564",
   "metadata": {},
   "outputs": [],
   "source": [
    "fig = ff.create_distplot([\n",
    "        big_metadata_fast[\"AVG_WPM_15\"].view().tolist(),\n",
    "        big_metadata_slow[\"AVG_WPM_15\"].view().tolist(),\n",
    "      ], group_labels=[\"Fast\", \"Slow\"], bin_size=1, show_rug=False, colors=[\"rgba(255, 165, 0, 0.9)\", \"rgba(0, 0, 255, 0.3)\"])\n",
    "\n",
    "fig.update_layout(template=\"none\", width=1200, height=1000, xaxis=dict(dtick=10), font=dict(size=18), legend=dict(\n",
    "    yanchor=\"top\",\n",
    "    y=0.99,\n",
    "    xanchor=\"left\",\n",
    "    x=0.8,\n",
    "    font=dict(size=30)\n",
    "))\n",
    "\n",
    "fig.update_xaxes(showgrid=True)\n",
    "fig.show()"
   ]
  },
  {
   "cell_type": "markdown",
   "id": "57d251a0",
   "metadata": {},
   "source": [
    "### Inter-Key Interval Trained/Untrained"
   ]
  },
  {
   "cell_type": "code",
   "execution_count": null,
   "id": "612f04ac",
   "metadata": {},
   "outputs": [],
   "source": [
    "fig = ff.create_distplot([\n",
    "        big_metadata_trained[\"AVG_IKI\"].view().tolist(),\n",
    "        big_metadata_untrained[\"AVG_IKI\"].view().tolist(),\n",
    "      ], group_labels=[\"Trained\", \"Untrained\"], bin_size=15, show_rug=False, colors=[\"rgba(255, 165, 0, 0.9)\", \"rgba(0, 0, 255, 0.3)\"], \n",
    "        \n",
    ")\n",
    "\n",
    "fig.update_layout(template=\"none\", width=1200, height=1000, xaxis=dict(dtick=100), font=dict(size=16), \n",
    "                 legend=dict(\n",
    "                        yanchor=\"top\",\n",
    "                        y=0.99,\n",
    "                        xanchor=\"left\",\n",
    "                        x=0.8,\n",
    "                        font=dict(size=30)\n",
    "                    )\n",
    "                 )\n",
    "fig.update_xaxes(showgrid=True, range=[0, 1000])\n",
    "fig.show()"
   ]
  },
  {
   "cell_type": "markdown",
   "id": "12ee8111",
   "metadata": {},
   "source": [
    "### Inter-Key Interval Fast/Slow"
   ]
  },
  {
   "cell_type": "code",
   "execution_count": null,
   "id": "da0bde4e",
   "metadata": {},
   "outputs": [],
   "source": [
    "fig = ff.create_distplot([\n",
    "        big_metadata_fast[\"AVG_IKI\"].view().tolist(),\n",
    "        big_metadata_slow[\"AVG_IKI\"].view().tolist(),\n",
    "      ], group_labels=[\"Fast\", \"Slow\"], bin_size=5, show_rug=False, colors=[\"rgba(255, 165, 0, 0.9)\", \"rgba(0, 0, 255, 0.3)\"])\n",
    "\n",
    "fig.update_layout(template=\"none\", width=1200, height=1000, xaxis=dict(dtick=100), font=dict(size=16), \n",
    "                 legend=dict(\n",
    "                        yanchor=\"top\",\n",
    "                        y=0.99,\n",
    "                        xanchor=\"left\",\n",
    "                        x=0.8,\n",
    "                        font=dict(size=30)\n",
    "                    ))\n",
    "\n",
    "fig.update_xaxes(showgrid=True, range=[0, 1000])\n",
    "fig.show()"
   ]
  },
  {
   "cell_type": "code",
   "execution_count": null,
   "id": "c415d032",
   "metadata": {},
   "outputs": [],
   "source": [
    "fig = ff.create_distplot([\n",
    "        big_metadata[\"KSPC\"].view().tolist(),\n",
    "        big_metadata[\"ECPC\"].view().tolist(),\n",
    "      ], group_labels=[\"KSPC\", \"ECPC\"], bin_size=0.008, show_rug=False, \n",
    "    colors=[\"rgba(255, 165, 0, 0.9)\", \"rgba(0, 0, 255, 0.3)\"])\n",
    "\n",
    "fig.update_layout(template=\"none\", width=1200, height=1000, xaxis=dict(dtick=0.1), font=dict(size=18), \n",
    "                 legend=dict(\n",
    "                        yanchor=\"top\",\n",
    "                        y=0.99,\n",
    "                        xanchor=\"left\",\n",
    "                        x=0.8,\n",
    "                        font=dict(size=30)\n",
    "                    ))\n",
    "fig.update_xaxes(showgrid=True, range=[0, 1.6])\n",
    "fig.show()"
   ]
  },
  {
   "cell_type": "markdown",
   "id": "726241fb",
   "metadata": {},
   "source": [
    "### KSPC & ECPC for Trained / Untrained"
   ]
  },
  {
   "cell_type": "code",
   "execution_count": null,
   "id": "dcc3df26",
   "metadata": {},
   "outputs": [],
   "source": [
    "fig = ff.create_distplot([\n",
    "        big_metadata_trained[\"KSPC\"].view().tolist(),\n",
    "        big_metadata_untrained[\"KSPC\"].view().tolist(),\n",
    "        big_metadata_trained[\"ECPC\"].view().tolist(),\n",
    "        big_metadata_untrained[\"ECPC\"].view().tolist(),\n",
    "      ], group_labels=[\"Trained KSPC\", \"Untrained KSPC\", \"Trained ECPC\", \"Untrained ECPC\"], bin_size=0.008, show_rug=False, \n",
    "    colors=[\"rgba(255, 165, 0, 0.9)\", \"rgba(0, 0, 255, 0.3)\", \"rgba(255, 0, 0, 0.5)\", \"rgba(127, 0, 255, 0.6)\"])\n",
    "\n",
    "fig.update_layout(template=\"none\", width=1200, height=1000, xaxis=dict(dtick=0.1), font=dict(size=18), \n",
    "                 legend=dict(\n",
    "                        yanchor=\"top\",\n",
    "                        y=0.99,\n",
    "                        xanchor=\"left\",\n",
    "                        x=0.8,\n",
    "                        font=dict(size=30)\n",
    "                    ))\n",
    "fig.update_xaxes(showgrid=True, range=[0, 1.6])\n",
    "fig.show()"
   ]
  },
  {
   "cell_type": "markdown",
   "id": "57df24a1",
   "metadata": {},
   "source": [
    "### KSPC & ECPC for Fast / Slow"
   ]
  },
  {
   "cell_type": "code",
   "execution_count": null,
   "id": "7e9e7413",
   "metadata": {},
   "outputs": [],
   "source": [
    "fig = ff.create_distplot([\n",
    "        big_metadata_fast[\"KSPC\"].view().tolist(),\n",
    "        big_metadata_slow[\"KSPC\"].view().tolist(),\n",
    "        big_metadata_fast[\"ECPC\"].view().tolist(),\n",
    "        big_metadata_slow[\"ECPC\"].view().tolist(),\n",
    "      ], group_labels=[\"Fast KSPC\", \"Slow KSPC\", \"Fast ECPC\", \"Slow ECPC\"], bin_size=0.008, show_rug=False, \n",
    "    colors=[\"rgba(255, 165, 0, 0.9)\", \"rgba(0, 0, 255, 0.3)\", \"rgba(255, 0, 0, 0.5)\", \"rgba(127, 0, 255, 0.6)\"])\n",
    "\n",
    "fig.update_layout(template=\"none\", width=1200, height=1000, xaxis=dict(dtick=0.1), font=dict(size=18), \n",
    "                 legend=dict(\n",
    "                        yanchor=\"top\",\n",
    "                        y=0.99,\n",
    "                        xanchor=\"left\",\n",
    "                        x=0.8,\n",
    "                        font=dict(size=30)\n",
    "                    ))\n",
    "fig.update_xaxes(showgrid=True, range=[0, 1.6])\n",
    "fig.show()"
   ]
  },
  {
   "cell_type": "markdown",
   "id": "7e6523b2",
   "metadata": {},
   "source": [
    "### Inter-Key Inteval & Keypress Distributions"
   ]
  },
  {
   "cell_type": "code",
   "execution_count": null,
   "id": "945f00bd",
   "metadata": {
    "scrolled": false
   },
   "outputs": [],
   "source": [
    "fig = ff.create_distplot([\n",
    "        big_metadata[\"AVG_KEYPRESS\"].view().tolist(),\n",
    "        big_metadata[\"AVG_IKI\"].view().tolist(),\n",
    "      ], group_labels=[\"KeyPress\", \"Inter-Key Interval\"], bin_size=3, show_rug=False, colors=[\"rgba(255, 165, 0, 0.9)\", \"rgba(0, 0, 255, 0.3)\"])\n",
    "\n",
    "fig.update_layout(template=\"none\", width=1200, height=1000, xaxis=dict(dtick=50), font=dict(size=16), \n",
    "                 legend=dict(\n",
    "                        yanchor=\"top\",\n",
    "                        y=0.99,\n",
    "                        xanchor=\"left\",\n",
    "                        x=0.8,\n",
    "                        font=dict(size=30)\n",
    "                    ))\n",
    "fig.update_xaxes(showgrid=True, range=[0, 500])\n",
    "fig.show()"
   ]
  },
  {
   "cell_type": "markdown",
   "id": "384604c9",
   "metadata": {},
   "source": [
    "### Key Press for trained / untrained"
   ]
  },
  {
   "cell_type": "code",
   "execution_count": null,
   "id": "6b74eb12",
   "metadata": {},
   "outputs": [],
   "source": [
    "fig = ff.create_distplot([\n",
    "        big_metadata_trained[\"AVG_KEYPRESS\"].view().tolist(),\n",
    "        big_metadata_untrained[\"AVG_KEYPRESS\"].view().tolist(),\n",
    "      ], group_labels=[\"Trained\", \"Untrained\"], bin_size=5, show_rug=False, colors=[\"rgba(255, 165, 0, 0.9)\", \"rgba(0, 0, 255, 0.3)\"])\n",
    "\n",
    "fig.update_layout(template=\"none\", width=1200, height=1000, xaxis=dict(dtick=50), font=dict(size=16), \n",
    "                 legend=dict(\n",
    "                        yanchor=\"top\",\n",
    "                        y=0.99,\n",
    "                        xanchor=\"left\",\n",
    "                        x=0.8,\n",
    "                        font=dict(size=30)\n",
    "                    ))\n",
    "\n",
    "fig.update_xaxes(showgrid=True, range=[0, 400])\n",
    "fig.show()"
   ]
  },
  {
   "cell_type": "markdown",
   "id": "6ccd2c16",
   "metadata": {},
   "source": [
    "### Key Press for fast / slow"
   ]
  },
  {
   "cell_type": "code",
   "execution_count": null,
   "id": "2f615276",
   "metadata": {},
   "outputs": [],
   "source": [
    "fig = ff.create_distplot([\n",
    "        big_metadata_fast[\"AVG_KEYPRESS\"].view().tolist(),\n",
    "        big_metadata_slow[\"AVG_KEYPRESS\"].view().tolist(),\n",
    "      ], group_labels=[\"Fast\", \"Slow\"], bin_size=5, show_rug=False, colors=[\"rgba(255, 165, 0, 0.9)\", \"rgba(0, 0, 255, 0.3)\"])\n",
    "\n",
    "fig.update_layout(template=\"none\", width=1200, height=1000, xaxis=dict(dtick=50), font=dict(size=18), \n",
    "                 legend=dict(\n",
    "                        yanchor=\"top\",\n",
    "                        y=0.99,\n",
    "                        xanchor=\"left\",\n",
    "                        x=0.8,\n",
    "                        font=dict(size=30)\n",
    "                    )\n",
    "                 )\n",
    "fig.update_xaxes(showgrid=True, range=[0, 400])\n",
    "fig.show()"
   ]
  },
  {
   "cell_type": "markdown",
   "id": "0e5fec82",
   "metadata": {},
   "source": [
    "### Uncorrected error rate"
   ]
  },
  {
   "cell_type": "code",
   "execution_count": null,
   "id": "99672c32",
   "metadata": {
    "scrolled": true
   },
   "outputs": [],
   "source": [
    "fig = ff.create_distplot([big_metadata[\"ERROR_RATE\"].view().tolist()], group_labels=[\"ERROR_RATE\"], bin_size=0.2, show_rug=False, colors=[\"orange\"])\n",
    "fig.update_layout(template=\"none\", showlegend=False, width=1000, height=800, font=dict(size=16))\n",
    "fig.update_xaxes(showgrid=True)\n",
    "fig.show()"
   ]
  }
 ],
 "metadata": {
  "kernelspec": {
   "display_name": "python3.10.9",
   "language": "python",
   "name": "python3"
  },
  "language_info": {
   "codemirror_mode": {
    "name": "ipython",
    "version": 3
   },
   "file_extension": ".py",
   "mimetype": "text/x-python",
   "name": "python",
   "nbconvert_exporter": "python",
   "pygments_lexer": "ipython3",
   "version": "3.10.9"
  }
 },
 "nbformat": 4,
 "nbformat_minor": 5
}
