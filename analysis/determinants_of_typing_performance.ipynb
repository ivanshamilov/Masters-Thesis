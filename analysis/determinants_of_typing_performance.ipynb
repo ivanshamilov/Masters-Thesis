{
 "cells": [
  {
   "cell_type": "code",
   "execution_count": null,
   "id": "94404441",
   "metadata": {},
   "outputs": [],
   "source": [
    "import plotly.express as px\n",
    "import plotly.graph_objects as go\n",
    "import plotly.figure_factory as ff\n",
    "from plotly.offline import init_notebook_mode\n",
    "from plotly.subplots import make_subplots\n",
    "\n",
    "import warnings\n",
    "\n",
    "import polars as pl\n",
    "\n",
    "from helpers import *\n",
    "\n",
    "from IPython.core.display import display, HTML\n",
    "\n",
    "warnings.filterwarnings(\"ignore\")\n",
    "display(HTML(\"<style>.container { width:95% !important; }</style>\"))"
   ]
  },
  {
   "cell_type": "code",
   "execution_count": null,
   "id": "9408758d",
   "metadata": {},
   "outputs": [],
   "source": [
    "big_metadata = pl.read_csv(\"data/preprocessed_big_metadata.csv\")\n",
    "big_metadata.head()"
   ]
  },
  {
   "cell_type": "markdown",
   "id": "9c755c32",
   "metadata": {},
   "source": [
    "**Things to do:**\n",
    "- FINGERS vs WPM\n",
    "- ROR vs WPM\n",
    "- KSPC vs WPM\n",
    "- FINGERS vs ERROR_RATE\n",
    "- ROR vs ERROR_RATE\n",
    "- KSPC vs ERROR_RATE\n",
    "\n",
    "**High-Performers:**\n",
    "- Compare IKIs with other people\n",
    "- Compare RORs with other people\n",
    "- Compare Keypresses with other people"
   ]
  },
  {
   "cell_type": "code",
   "execution_count": null,
   "id": "1538d939",
   "metadata": {},
   "outputs": [],
   "source": [
    "big_metadata[\"ERROR_RATE\"].quantile(0.2), big_metadata[\"AVG_WPM_15\"].quantile(0.75)"
   ]
  },
  {
   "cell_type": "code",
   "execution_count": null,
   "id": "6f54d0ad",
   "metadata": {},
   "outputs": [],
   "source": [
    "big_metadata.filter((pl.col(\"AVG_WPM_15\") >= 64) & (pl.col(\"ERROR_RATE\") <= 0.24))"
   ]
  },
  {
   "cell_type": "markdown",
   "id": "ae29d658",
   "metadata": {},
   "source": [
    "### WPM vs Fingers"
   ]
  },
  {
   "cell_type": "code",
   "execution_count": null,
   "id": "0d22d177",
   "metadata": {},
   "outputs": [],
   "source": [
    "print(big_metadata.shape)\n",
    "big_metadata = big_metadata.filter(pl.col(\"FINGERS\") != \"10+\")\n",
    "print(big_metadata.shape)"
   ]
  },
  {
   "cell_type": "code",
   "execution_count": null,
   "id": "a353e4ce",
   "metadata": {},
   "outputs": [],
   "source": [
    "wpm_fingers = big_metadata.groupby(\"FINGERS\").agg(pl.col(\"AVG_WPM_15\").mean()).sort(by=\"AVG_WPM_15\")\n",
    "wpm_fingers"
   ]
  },
  {
   "cell_type": "code",
   "execution_count": null,
   "id": "d50dab71",
   "metadata": {},
   "outputs": [],
   "source": [
    "fig = make_subplots()\n",
    "\n",
    "trace_1 = go.Bar(x=wpm_fingers[\"FINGERS\"], y=wpm_fingers[\"AVG_WPM_15\"])\n",
    "trace_2 = go.Scatter(x=wpm_fingers[\"FINGERS\"], y=wpm_fingers[\"AVG_WPM_15\"], line=dict(width=5), marker=dict(size=10))\n",
    "\n",
    "fig.add_trace(trace_1)\n",
    "fig.add_trace(trace_2)\n",
    "fig.update_layout(template=\"none\", width=1600, height=1000, font=dict(size=18), showlegend=False, xaxis_title=\"Fingers\", yaxis_title=\"Average WPM\")\n",
    "fig.update_yaxes(range=[30, 60])\n"
   ]
  },
  {
   "cell_type": "code",
   "execution_count": null,
   "id": "2ff23b5d",
   "metadata": {
    "scrolled": true
   },
   "outputs": [],
   "source": [
    "fig = ff.create_distplot(\n",
    "    [\n",
    "        big_metadata.filter(pl.col(\"FINGERS\") == \"1-2\")[\"AVG_WPM_15\"].view().tolist(),\n",
    "        big_metadata.filter(pl.col(\"FINGERS\") == \"3-4\")[\"AVG_WPM_15\"].view().tolist(),\n",
    "        big_metadata.filter(pl.col(\"FINGERS\") == \"5-6\")[\"AVG_WPM_15\"].view().tolist(),\n",
    "        big_metadata.filter(pl.col(\"FINGERS\") == \"7-8\")[\"AVG_WPM_15\"].view().tolist(),\n",
    "        big_metadata.filter(pl.col(\"FINGERS\") == \"9-10\")[\"AVG_WPM_15\"].view().tolist(),\n",
    "    ], group_labels=[\"1-2\", \"3-4\", \"5-6\", \"7-8\", \"9-10\"], bin_size=2, show_rug=False,\n",
    ")\n",
    "\n",
    "fig.update_layout(template=\"none\", width=1600, height=1000, xaxis=dict(dtick=10), font=dict(size=18), \n",
    "                 legend=dict(\n",
    "                        yanchor=\"top\",\n",
    "                        y=0.99,\n",
    "                        xanchor=\"left\",\n",
    "                        x=0.8,\n",
    "                        font=dict(size=30)\n",
    "                    ))\n",
    "\n",
    "fig.update_xaxes(showgrid=True, range=[0, 170])\n",
    "fig.show()"
   ]
  },
  {
   "cell_type": "markdown",
   "id": "8aa4450e",
   "metadata": {},
   "source": [
    "### WPM vs ROR"
   ]
  },
  {
   "cell_type": "code",
   "execution_count": null,
   "id": "fe647efd",
   "metadata": {},
   "outputs": [],
   "source": [
    "big_metadata"
   ]
  },
  {
   "cell_type": "code",
   "execution_count": null,
   "id": "892227d0",
   "metadata": {
    "scrolled": false
   },
   "outputs": [],
   "source": [
    "fig = px.scatter(big_metadata.to_pandas(), x=\"AVG_WPM_15\", y=\"ROR\", trendline=\"ols\", trendline_color_override=\"red\")\n",
    "\n",
    "fig.update_layout(template=\"none\", width=1500, height=900, font=dict(size=18), yaxis=dict(dtick=0.05), xaxis=dict(dtick=10), showlegend=False, \n",
    "                 xaxis_title=\"Words per Minute\", yaxis_title=\"Rollover Rate\")\n",
    "\n",
    "fig.update_yaxes(range=[0, 1])\n",
    "\n",
    "fig.show()"
   ]
  },
  {
   "cell_type": "markdown",
   "id": "74bd3d98",
   "metadata": {},
   "source": [
    "### WPM vs KSPC"
   ]
  },
  {
   "cell_type": "code",
   "execution_count": null,
   "id": "237d822f",
   "metadata": {},
   "outputs": [],
   "source": [
    "fig = px.scatter(big_metadata.to_pandas(), x=\"AVG_WPM_15\", y=\"KSPC\", trendline=\"ols\", trendline_color_override=\"red\")\n",
    "\n",
    "fig.update_layout(template=\"none\", width=1500, height=900, font=dict(size=18), xaxis=dict(dtick=10), yaxis=dict(dtick=0.25), showlegend=False,\n",
    "                 xaxis_title=\"Words per Minute\", y=\"Keystrokes per Character\")\n",
    "\n",
    "fig.show()"
   ]
  },
  {
   "cell_type": "markdown",
   "id": "77c0a46c",
   "metadata": {},
   "source": [
    "### Error Rate vs Fingers"
   ]
  },
  {
   "cell_type": "code",
   "execution_count": null,
   "id": "d6fb5efc",
   "metadata": {},
   "outputs": [],
   "source": [
    "fig = ff.create_distplot(\n",
    "    [\n",
    "        big_metadata.filter(pl.col(\"FINGERS\") == \"1-2\")[\"ERROR_RATE\"].view().tolist(),\n",
    "        big_metadata.filter(pl.col(\"FINGERS\") == \"3-4\")[\"ERROR_RATE\"].view().tolist(),\n",
    "        big_metadata.filter(pl.col(\"FINGERS\") == \"5-6\")[\"ERROR_RATE\"].view().tolist(),\n",
    "        big_metadata.filter(pl.col(\"FINGERS\") == \"7-8\")[\"ERROR_RATE\"].view().tolist(),\n",
    "        big_metadata.filter(pl.col(\"FINGERS\") == \"9-10\")[\"ERROR_RATE\"].view().tolist(),\n",
    "    ], group_labels=[\"1-2\", \"3-4\", \"5-6\", \"7-8\", \"9-10\"], show_rug=False, bin_size=0.2\n",
    ")\n",
    "\n",
    "fig.update_layout(template=\"none\", width=1600, height=1000, xaxis=dict(dtick=0.5), font=dict(size=18), \n",
    "                 legend=dict(\n",
    "                        yanchor=\"top\",\n",
    "                        y=0.99,\n",
    "                        xanchor=\"left\",\n",
    "                        x=0.8,\n",
    "                        font=dict(size=30)\n",
    "                    ), xaxis_title=\"Error Rate\", yaxis_title=\"Density\")\n",
    "\n",
    "fig.update_xaxes(showgrid=True, range=[0, 8])\n",
    "fig.show()"
   ]
  },
  {
   "cell_type": "markdown",
   "id": "570d7141",
   "metadata": {},
   "source": [
    "### Error Rate vs ROR"
   ]
  },
  {
   "cell_type": "code",
   "execution_count": null,
   "id": "5f87ee12",
   "metadata": {},
   "outputs": [],
   "source": [
    "fig = px.scatter(big_metadata.to_pandas(), x=\"ERROR_RATE\", y=\"ROR\") #, trendline=\"ols\", trendline_color_override=\"red\")\n",
    "\n",
    "fig.update_layout(template=\"none\", width=1500, height=900, font=dict(size=18), yaxis=dict(dtick=0.05), xaxis=dict(dtick=1), showlegend=False, \n",
    "                 xaxis_title=\"Error Rate\", yaxis_title=\"Rollover Rate\")\n",
    "\n",
    "fig.update_yaxes(range=[0, 1])\n",
    "fig.update_xaxes(range=[0, 25])\n",
    "\n",
    "fig.show()"
   ]
  },
  {
   "cell_type": "markdown",
   "id": "e413e881",
   "metadata": {},
   "source": [
    "### Error Rate vs KSPC"
   ]
  },
  {
   "cell_type": "code",
   "execution_count": null,
   "id": "4c434f68",
   "metadata": {},
   "outputs": [],
   "source": [
    "fig = px.scatter(big_metadata.to_pandas(), x=\"ERROR_RATE\", y=\"KSPC\")\n",
    "\n",
    "fig.update_layout(template=\"none\", width=1500, height=900, font=dict(size=18), xaxis=dict(dtick=1), yaxis=dict(dtick=0.25), showlegend=False,\n",
    "                 xaxis_title=\"Error Rate\", yaxis_title=\"Keystrokes per Character\")\n",
    "\n",
    "fig.update_yaxes(range=[1, 5])\n",
    "fig.update_xaxes(range=[0, 25])\n",
    "\n",
    "fig.show()"
   ]
  },
  {
   "cell_type": "markdown",
   "id": "ee940dbd",
   "metadata": {},
   "source": [
    "### High-performers"
   ]
  },
  {
   "cell_type": "code",
   "execution_count": null,
   "id": "27857158",
   "metadata": {},
   "outputs": [],
   "source": [
    "wpm_hp = big_metadata[\"AVG_WPM_15\"].quantile(0.75)\n",
    "error_hp = big_metadata[\"ERROR_RATE\"].quantile(0.25)\n",
    "\n",
    "wpm_hp, error_hp"
   ]
  },
  {
   "cell_type": "code",
   "execution_count": null,
   "id": "8c88cda0",
   "metadata": {},
   "outputs": [],
   "source": [
    "# high_performers = big_metadata.filter((pl.col(\"AVG_WPM_15\") >= wpm_hp) & (pl.col(\"ERROR_RATE\") <= error_hp))\n",
    "big_metadata_1 = big_metadata.select([\n",
    "    pl.col(\"*\"),\n",
    "    pl.when((pl.col(\"AVG_WPM_15\") >= wpm_hp) & (pl.col(\"ERROR_RATE\") <= error_hp)).then(1).otherwise(0).alias(\"HIGH_PERFORMER\")\n",
    "])\n",
    "\n",
    "big_metadata_1[\"HIGH_PERFORMER\"].value_counts()"
   ]
  },
  {
   "cell_type": "markdown",
   "id": "62520cee",
   "metadata": {},
   "source": [
    "### Compare IKIs with other people"
   ]
  },
  {
   "cell_type": "code",
   "execution_count": null,
   "id": "c2cfb9df",
   "metadata": {},
   "outputs": [],
   "source": [
    "fig = ff.create_distplot(\n",
    "    [\n",
    "        big_metadata_1.filter(pl.col(\"HIGH_PERFORMER\") == 0)[\"AVG_IKI\"].view().tolist(),\n",
    "        big_metadata_1.filter(pl.col(\"HIGH_PERFORMER\") == 1)[\"AVG_IKI\"].view().tolist()\n",
    "    ], group_labels=[\"No\", \"Yes\"], show_rug=False\n",
    ")\n",
    "\n",
    "fig.update_layout(template=\"none\", width=1600, height=1000, xaxis=dict(dtick=50), font=dict(size=18), \n",
    "                 legend=dict(\n",
    "                        yanchor=\"top\",\n",
    "                        y=0.99,\n",
    "                        xanchor=\"left\",\n",
    "                        x=0.8,\n",
    "                        font=dict(size=30)\n",
    "                    ), xaxis_title=\"Inter-Key Interval Time\", yaxis_title=\"Density\")\n",
    "\n",
    "fig.update_xaxes(showgrid=True, range=[0, 600])\n",
    "fig.show()"
   ]
  },
  {
   "cell_type": "markdown",
   "id": "92e277ac",
   "metadata": {},
   "source": [
    "### Compare RORs with other people"
   ]
  },
  {
   "cell_type": "code",
   "execution_count": null,
   "id": "85e0709a",
   "metadata": {},
   "outputs": [],
   "source": [
    "fig = ff.create_distplot(\n",
    "    [\n",
    "        big_metadata_1.filter(pl.col(\"HIGH_PERFORMER\") == 0)[\"ROR\"].view().tolist(),\n",
    "        big_metadata_1.filter(pl.col(\"HIGH_PERFORMER\") == 1)[\"ROR\"].view().tolist()\n",
    "    ], group_labels=[\"No\", \"Yes\"], show_rug=False, bin_size=0.01\n",
    ")\n",
    "\n",
    "fig.update_layout(template=\"none\", width=1600, height=1000, xaxis=dict(dtick=0.05), font=dict(size=18), \n",
    "                 legend=dict(\n",
    "                        yanchor=\"top\",\n",
    "                        y=0.99,\n",
    "                        xanchor=\"left\",\n",
    "                        x=0.8,\n",
    "                        font=dict(size=30)\n",
    "                    ), xaxis_title=\"Rollover Ratio\", yaxis_title=\"Density\")\n",
    "\n",
    "fig.update_xaxes(showgrid=True, range=[0, 1])\n",
    "fig.show()"
   ]
  },
  {
   "cell_type": "markdown",
   "id": "757bb16e",
   "metadata": {},
   "source": [
    "### Compare Keypresses with other people"
   ]
  },
  {
   "cell_type": "code",
   "execution_count": null,
   "id": "0d9e0200",
   "metadata": {},
   "outputs": [],
   "source": [
    "fig = ff.create_distplot(\n",
    "    [\n",
    "        big_metadata_1.filter(pl.col(\"HIGH_PERFORMER\") == 0)[\"AVG_KEYPRESS\"].view().tolist(),\n",
    "        big_metadata_1.filter(pl.col(\"HIGH_PERFORMER\") == 1)[\"AVG_KEYPRESS\"].view().tolist()\n",
    "    ], group_labels=[\"No\", \"Yes\"], show_rug=False\n",
    ")\n",
    "\n",
    "fig.update_layout(template=\"none\", width=1600, height=1000, xaxis=dict(dtick=25), font=dict(size=18), \n",
    "                 legend=dict(\n",
    "                        yanchor=\"top\",\n",
    "                        y=0.99,\n",
    "                        xanchor=\"left\",\n",
    "                        x=0.8,\n",
    "                        font=dict(size=30)\n",
    "                    ), xaxis_title=\"Average Keypress Time\", yaxis_title=\"Density\")\n",
    "\n",
    "fig.update_xaxes(showgrid=True, range=[0, 300])\n",
    "fig.show()"
   ]
  },
  {
   "cell_type": "code",
   "execution_count": null,
   "id": "c0b02965",
   "metadata": {},
   "outputs": [],
   "source": []
  },
  {
   "cell_type": "code",
   "execution_count": null,
   "id": "054b48e4",
   "metadata": {},
   "outputs": [],
   "source": []
  }
 ],
 "metadata": {
  "kernelspec": {
   "display_name": "python3.10.9",
   "language": "python",
   "name": "python3"
  },
  "language_info": {
   "codemirror_mode": {
    "name": "ipython",
    "version": 3
   },
   "file_extension": ".py",
   "mimetype": "text/x-python",
   "name": "python",
   "nbconvert_exporter": "python",
   "pygments_lexer": "ipython3",
   "version": "3.10.9"
  }
 },
 "nbformat": 4,
 "nbformat_minor": 5
}
