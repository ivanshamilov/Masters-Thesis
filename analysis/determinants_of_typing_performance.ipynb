{
 "cells": [
  {
   "cell_type": "code",
   "execution_count": 85,
   "id": "94404441",
   "metadata": {},
   "outputs": [
    {
     "data": {
      "text/html": [
       "<style>.container { width:95% !important; }</style>"
      ],
      "text/plain": [
       "<IPython.core.display.HTML object>"
      ]
     },
     "metadata": {},
     "output_type": "display_data"
    }
   ],
   "source": [
    "import plotly.express as px\n",
    "import plotly.graph_objects as go\n",
    "import plotly.figure_factory as ff\n",
    "from plotly.offline import init_notebook_mode\n",
    "from plotly.subplots import make_subplots\n",
    "\n",
    "import warnings\n",
    "\n",
    "import polars as pl\n",
    "\n",
    "from helpers import *\n",
    "\n",
    "from IPython.core.display import display, HTML\n",
    "\n",
    "warnings.filterwarnings(\"ignore\")\n",
    "display(HTML(\"<style>.container { width:95% !important; }</style>\"))"
   ]
  },
  {
   "cell_type": "code",
   "execution_count": 86,
   "id": "9408758d",
   "metadata": {},
   "outputs": [
    {
     "data": {
      "text/html": [
       "<div><style>\n",
       ".dataframe > thead > tr > th,\n",
       ".dataframe > tbody > tr > td {\n",
       "  text-align: right;\n",
       "}\n",
       "</style>\n",
       "<small>shape: (5, 18)</small><table border=\"1\" class=\"dataframe\"><thead><tr><th>PARTICIPANT_ID</th><th>AGE</th><th>GENDER</th><th>HAS_TAKEN_TYPING_COURSE</th><th>COUNTRY</th><th>LAYOUT</th><th>NATIVE_LANGUAGE</th><th>FINGERS</th><th>TIME_SPENT_TYPING</th><th>KEYBOARD_TYPE</th><th>ERROR_RATE</th><th>AVG_WPM_15</th><th>AVG_IKI</th><th>ECPC</th><th>KSPC</th><th>ROR</th><th>SPEED</th><th>AVG_KEYPRESS</th></tr><tr><td>i64</td><td>i64</td><td>str</td><td>i64</td><td>str</td><td>str</td><td>str</td><td>str</td><td>i64</td><td>str</td><td>f64</td><td>f64</td><td>f64</td><td>f64</td><td>f64</td><td>f64</td><td>str</td><td>f64</td></tr></thead><tbody><tr><td>5</td><td>27</td><td>&quot;female&quot;</td><td>0</td><td>&quot;MY&quot;</td><td>&quot;qwerty&quot;</td><td>&quot;en&quot;</td><td>&quot;7-8&quot;</td><td>6</td><td>&quot;laptop&quot;</td><td>0.87108</td><td>72.8871</td><td>150.457375</td><td>0.031469</td><td>1.101399</td><td>0.3675</td><td>&quot;fast&quot;</td><td>102.780952</td></tr><tr><td>7</td><td>13</td><td>&quot;female&quot;</td><td>0</td><td>&quot;AU&quot;</td><td>&quot;qwerty&quot;</td><td>&quot;en&quot;</td><td>&quot;7-8&quot;</td><td>0</td><td>&quot;laptop&quot;</td><td>6.685633</td><td>24.1809</td><td>386.575303</td><td>0.092105</td><td>1.292398</td><td>0.0667</td><td>&quot;slow&quot;</td><td>122.280861</td></tr><tr><td>23</td><td>21</td><td>&quot;female&quot;</td><td>0</td><td>&quot;IN&quot;</td><td>&quot;qwerty&quot;</td><td>&quot;en&quot;</td><td>&quot;3-4&quot;</td><td>0</td><td>&quot;full&quot;</td><td>2.130493</td><td>24.7112</td><td>457.947902</td><td>0.016624</td><td>1.07289</td><td>0.0413</td><td>&quot;slow&quot;</td><td>128.350417</td></tr><tr><td>24</td><td>21</td><td>&quot;female&quot;</td><td>0</td><td>&quot;PH&quot;</td><td>&quot;qwerty&quot;</td><td>&quot;tl&quot;</td><td>&quot;7-8&quot;</td><td>1</td><td>&quot;laptop&quot;</td><td>1.893287</td><td>45.3364</td><td>223.913395</td><td>0.045296</td><td>1.1777</td><td>0.2678</td><td>&quot;slow&quot;</td><td>121.406805</td></tr><tr><td>25</td><td>19</td><td>&quot;male&quot;</td><td>0</td><td>&quot;IN&quot;</td><td>&quot;qwerty&quot;</td><td>&quot;en&quot;</td><td>&quot;7-8&quot;</td><td>1</td><td>&quot;laptop&quot;</td><td>0.747384</td><td>54.6831</td><td>190.034172</td><td>0.055389</td><td>1.146707</td><td>0.4434</td><td>&quot;slow&quot;</td><td>143.912533</td></tr></tbody></table></div>"
      ],
      "text/plain": [
       "shape: (5, 18)\n",
       "┌────────────────┬─────┬────────┬───────────────────┬───┬──────────┬────────┬───────┬──────────────┐\n",
       "│ PARTICIPANT_ID ┆ AGE ┆ GENDER ┆ HAS_TAKEN_TYPING_ ┆ … ┆ KSPC     ┆ ROR    ┆ SPEED ┆ AVG_KEYPRESS │\n",
       "│ ---            ┆ --- ┆ ---    ┆ COURSE            ┆   ┆ ---      ┆ ---    ┆ ---   ┆ ---          │\n",
       "│ i64            ┆ i64 ┆ str    ┆ ---               ┆   ┆ f64      ┆ f64    ┆ str   ┆ f64          │\n",
       "│                ┆     ┆        ┆ i64               ┆   ┆          ┆        ┆       ┆              │\n",
       "╞════════════════╪═════╪════════╪═══════════════════╪═══╪══════════╪════════╪═══════╪══════════════╡\n",
       "│ 5              ┆ 27  ┆ female ┆ 0                 ┆ … ┆ 1.101399 ┆ 0.3675 ┆ fast  ┆ 102.780952   │\n",
       "│ 7              ┆ 13  ┆ female ┆ 0                 ┆ … ┆ 1.292398 ┆ 0.0667 ┆ slow  ┆ 122.280861   │\n",
       "│ 23             ┆ 21  ┆ female ┆ 0                 ┆ … ┆ 1.07289  ┆ 0.0413 ┆ slow  ┆ 128.350417   │\n",
       "│ 24             ┆ 21  ┆ female ┆ 0                 ┆ … ┆ 1.1777   ┆ 0.2678 ┆ slow  ┆ 121.406805   │\n",
       "│ 25             ┆ 19  ┆ male   ┆ 0                 ┆ … ┆ 1.146707 ┆ 0.4434 ┆ slow  ┆ 143.912533   │\n",
       "└────────────────┴─────┴────────┴───────────────────┴───┴──────────┴────────┴───────┴──────────────┘"
      ]
     },
     "execution_count": 86,
     "metadata": {},
     "output_type": "execute_result"
    }
   ],
   "source": [
    "big_metadata = pl.read_csv(\"../data/preprocessed_big_metadata.csv\")\n",
    "big_metadata.head()"
   ]
  },
  {
   "attachments": {},
   "cell_type": "markdown",
   "id": "9c755c32",
   "metadata": {},
   "source": [
    "**Things to do:**\n",
    "- WPM vs Fingers\n",
    "- WPM vs ROR\n",
    "- KSPC vs Fingers\n",
    "- KSPC vs ROR\n",
    "\n",
    "**High-Performers:**\n",
    "- Compare IKIs with other people\n",
    "- Compare RORs with other people\n",
    "- Compare Keypresses with other people"
   ]
  },
  {
   "cell_type": "code",
   "execution_count": 80,
   "id": "0d22d177",
   "metadata": {},
   "outputs": [
    {
     "name": "stdout",
     "output_type": "stream",
     "text": [
      "(159156, 18)\n",
      "(159155, 18)\n"
     ]
    }
   ],
   "source": [
    "print(big_metadata.shape)\n",
    "big_metadata = big_metadata.filter(pl.col(\"FINGERS\") != \"10+\")\n",
    "print(big_metadata.shape)"
   ]
  },
  {
   "cell_type": "code",
   "execution_count": 81,
   "id": "a353e4ce",
   "metadata": {},
   "outputs": [
    {
     "data": {
      "text/html": [
       "<div><style>\n",
       ".dataframe > thead > tr > th,\n",
       ".dataframe > tbody > tr > td {\n",
       "  text-align: right;\n",
       "}\n",
       "</style>\n",
       "<small>shape: (5, 2)</small><table border=\"1\" class=\"dataframe\"><thead><tr><th>FINGERS</th><th>AVG_WPM_15</th></tr><tr><td>str</td><td>f64</td></tr></thead><tbody><tr><td>&quot;1-2&quot;</td><td>40.459015</td></tr><tr><td>&quot;3-4&quot;</td><td>41.334974</td></tr><tr><td>&quot;5-6&quot;</td><td>45.98383</td></tr><tr><td>&quot;7-8&quot;</td><td>50.28834</td></tr><tr><td>&quot;9-10&quot;</td><td>57.74085</td></tr></tbody></table></div>"
      ],
      "text/plain": [
       "shape: (5, 2)\n",
       "┌─────────┬────────────┐\n",
       "│ FINGERS ┆ AVG_WPM_15 │\n",
       "│ ---     ┆ ---        │\n",
       "│ str     ┆ f64        │\n",
       "╞═════════╪════════════╡\n",
       "│ 1-2     ┆ 40.459015  │\n",
       "│ 3-4     ┆ 41.334974  │\n",
       "│ 5-6     ┆ 45.98383   │\n",
       "│ 7-8     ┆ 50.28834   │\n",
       "│ 9-10    ┆ 57.74085   │\n",
       "└─────────┴────────────┘"
      ]
     },
     "execution_count": 81,
     "metadata": {},
     "output_type": "execute_result"
    }
   ],
   "source": [
    "wpm_fingers = big_metadata.groupby(\"FINGERS\").agg(pl.col(\"AVG_WPM_15\").mean()).sort(by=\"AVG_WPM_15\")\n",
    "wpm_fingers"
   ]
  },
  {
   "cell_type": "markdown",
   "id": "ae29d658",
   "metadata": {},
   "source": [
    "### WPM vs Fingers"
   ]
  },
  {
   "cell_type": "code",
   "execution_count": null,
   "id": "d50dab71",
   "metadata": {},
   "outputs": [],
   "source": [
    "fig = make_subplots()\n",
    "\n",
    "trace_1 = go.Bar(x=wpm_fingers[\"FINGERS\"], y=wpm_fingers[\"AVG_WPM_15\"])\n",
    "trace_2 = go.Scatter(x=wpm_fingers[\"FINGERS\"], y=wpm_fingers[\"AVG_WPM_15\"], line=dict(width=5), marker=dict(size=10))\n",
    "\n",
    "fig.add_trace(trace_1)\n",
    "fig.add_trace(trace_2)\n",
    "fig.update_layout(template=\"none\", width=1600, height=1000, font=dict(size=18), showlegend=False, xaxis_title=\"Fingers\", yaxis_title=\"Average WPM\")\n",
    "fig.update_yaxes(range=[30, 60])\n"
   ]
  },
  {
   "cell_type": "code",
   "execution_count": null,
   "id": "2ff23b5d",
   "metadata": {
    "scrolled": true
   },
   "outputs": [],
   "source": [
    "fig = ff.create_distplot(\n",
    "    [\n",
    "        big_metadata.filter(pl.col(\"FINGERS\") == \"1-2\")[\"AVG_WPM_15\"].view().tolist(),\n",
    "        big_metadata.filter(pl.col(\"FINGERS\") == \"3-4\")[\"AVG_WPM_15\"].view().tolist(),\n",
    "        big_metadata.filter(pl.col(\"FINGERS\") == \"5-6\")[\"AVG_WPM_15\"].view().tolist(),\n",
    "        big_metadata.filter(pl.col(\"FINGERS\") == \"7-8\")[\"AVG_WPM_15\"].view().tolist(),\n",
    "        big_metadata.filter(pl.col(\"FINGERS\") == \"9-10\")[\"AVG_WPM_15\"].view().tolist(),\n",
    "    ], group_labels=[\"1-2\", \"3-4\", \"5-6\", \"7-8\", \"9-10\"], bin_size=2, show_rug=False,\n",
    ")\n",
    "\n",
    "fig.update_layout(template=\"none\", width=1600, height=1000, xaxis=dict(dtick=10), font=dict(size=20), \n",
    "                 legend=dict(\n",
    "                        yanchor=\"top\",\n",
    "                        y=0.99,\n",
    "                        xanchor=\"left\",\n",
    "                        x=0.8,\n",
    "                        font=dict(size=30)\n",
    "                    ), xaxis_title=\"Words per Minute\", yaxis_title=\"Density\"\n",
    "                 )\n",
    "\n",
    "fig.update_xaxes(showgrid=True, range=[0, 170])\n",
    "fig.show()"
   ]
  },
  {
   "cell_type": "code",
   "execution_count": 7,
   "id": "41c10bc6",
   "metadata": {},
   "outputs": [
    {
     "name": "stdout",
     "output_type": "stream",
     "text": [
      "shape: (9, 2)\n",
      "┌────────────┬───────────┐\n",
      "│ statistic  ┆ value     │\n",
      "│ ---        ┆ ---       │\n",
      "│ str        ┆ f64       │\n",
      "╞════════════╪═══════════╡\n",
      "│ count      ┆ 19810.0   │\n",
      "│ null_count ┆ 0.0       │\n",
      "│ mean       ┆ 40.459015 │\n",
      "│ std        ┆ 18.003714 │\n",
      "│ min        ┆ 3.9074    │\n",
      "│ max        ┆ 147.4052  │\n",
      "│ median     ┆ 36.56795  │\n",
      "│ 25%        ┆ 27.4059   │\n",
      "│ 75%        ┆ 50.1659   │\n",
      "└────────────┴───────────┘\n",
      "Skewness:  1.0070164370586914\n",
      "Kurtosis:  0.9547055883808655\n"
     ]
    }
   ],
   "source": [
    "fingers = \"1-2\"\n",
    "\n",
    "print(big_metadata.filter(pl.col(\"FINGERS\") == fingers)[\"AVG_WPM_15\"].describe())\n",
    "print(\"Skewness: \", big_metadata.filter(pl.col(\"FINGERS\") == fingers)[\"AVG_WPM_15\"].skew())\n",
    "print(\"Kurtosis: \", big_metadata.filter(pl.col(\"FINGERS\") == fingers)[\"AVG_WPM_15\"].kurtosis())\n"
   ]
  },
  {
   "cell_type": "markdown",
   "id": "8aa4450e",
   "metadata": {},
   "source": [
    "### WPM vs ROR"
   ]
  },
  {
   "cell_type": "code",
   "execution_count": null,
   "id": "237d822f",
   "metadata": {},
   "outputs": [],
   "source": [
    "fig = px.scatter(big_metadata.to_pandas(), x=\"ROR\", y=\"AVG_WPM_15\", trendline=\"ols\", trendline_color_override=\"red\")\n",
    "\n",
    "fig.update_layout(template=\"none\", width=1500, height=1300, font=dict(size=20), xaxis=dict(dtick=0.05), yaxis=dict(dtick=10), showlegend=False,\n",
    "                 xaxis_title=\"Rollover Rate\", yaxis_title=\"Words per Minute\")\n",
    "fig.update_xaxes(range=[-0.01, 0.8])\n",
    "\n",
    "fig.show()"
   ]
  },
  {
   "cell_type": "code",
   "execution_count": null,
   "id": "c8de3a84",
   "metadata": {},
   "outputs": [],
   "source": [
    "big_metadata.select(pl.pearson_corr(\"ROR\", \"AVG_WPM_15\"))"
   ]
  },
  {
   "attachments": {},
   "cell_type": "markdown",
   "id": "13ab2f21",
   "metadata": {},
   "source": [
    "### KSPC vs Fingers Used"
   ]
  },
  {
   "cell_type": "code",
   "execution_count": null,
   "id": "2ab725f3",
   "metadata": {},
   "outputs": [],
   "source": [
    "fig = ff.create_distplot(\n",
    "    [\n",
    "        big_metadata.filter(pl.col(\"FINGERS\") == \"1-2\")[\"KSPC\"].view().tolist(),\n",
    "        big_metadata.filter(pl.col(\"FINGERS\") == \"3-4\")[\"KSPC\"].view().tolist(),\n",
    "        big_metadata.filter(pl.col(\"FINGERS\") == \"5-6\")[\"KSPC\"].view().tolist(),\n",
    "        big_metadata.filter(pl.col(\"FINGERS\") == \"7-8\")[\"KSPC\"].view().tolist(),\n",
    "        big_metadata.filter(pl.col(\"FINGERS\") == \"9-10\")[\"KSPC\"].view().tolist(),\n",
    "    ], group_labels=[\"1-2\", \"3-4\", \"5-6\", \"7-8\", \"9-10\"], show_rug=False, bin_size=0.01)\n",
    "\n",
    "fig.update_layout(template=\"none\", width=1600, height=1000, xaxis=dict(dtick=0.05), font=dict(size=20), \n",
    "                 legend=dict(\n",
    "                        yanchor=\"top\",\n",
    "                        y=0.99,\n",
    "                        xanchor=\"left\",\n",
    "                        x=0.8,\n",
    "                        font=dict(size=30)\n",
    "                    ), xaxis_title=\"Keystrokes per Character\", yaxis_title=\"Density\")\n",
    "\n",
    "fig.update_xaxes(showgrid=True, range=[1, 1.7])\n",
    "fig.show()"
   ]
  },
  {
   "cell_type": "code",
   "execution_count": 113,
   "id": "8ffdfa36",
   "metadata": {},
   "outputs": [
    {
     "name": "stdout",
     "output_type": "stream",
     "text": [
      "shape: (9, 2)\n",
      "┌────────────┬──────────┐\n",
      "│ statistic  ┆ value    │\n",
      "│ ---        ┆ ---      │\n",
      "│ str        ┆ f64      │\n",
      "╞════════════╪══════════╡\n",
      "│ count      ┆ 76024.0  │\n",
      "│ null_count ┆ 0.0      │\n",
      "│ mean       ┆ 1.161901 │\n",
      "│ std        ┆ 0.08699  │\n",
      "│ min        ┆ 1.012433 │\n",
      "│ max        ┆ 2.367868 │\n",
      "│ median     ┆ 1.143255 │\n",
      "│ 25%        ┆ 1.101375 │\n",
      "│ 75%        ┆ 1.201107 │\n",
      "└────────────┴──────────┘\n",
      "Skewness:  1.7351412078448063\n",
      "Kurtosis:  5.9050091490544485\n"
     ]
    }
   ],
   "source": [
    "fingers = \"9-10\"\n",
    "\n",
    "print(big_metadata.filter(pl.col(\"FINGERS\") == fingers)[\"KSPC\"].describe())\n",
    "print(\"Skewness: \", big_metadata.filter(pl.col(\"FINGERS\") == fingers)[\"KSPC\"].skew())\n",
    "print(\"Kurtosis: \", big_metadata.filter(pl.col(\"FINGERS\") == fingers)[\"KSPC\"].kurtosis())\n"
   ]
  },
  {
   "attachments": {},
   "cell_type": "markdown",
   "id": "575dd66a",
   "metadata": {},
   "source": [
    "### KSPC vs ROR"
   ]
  },
  {
   "cell_type": "code",
   "execution_count": null,
   "id": "e3c3b620",
   "metadata": {},
   "outputs": [],
   "source": [
    "fig = px.scatter(big_metadata.to_pandas(), x=\"ROR\", y=\"KSPC\", trendline=\"ols\", trendline_color_override=\"red\")\n",
    "\n",
    "fig.update_layout(template=\"none\", width=1500, height=1300, font=dict(size=20), yaxis=dict(dtick=0.25), xaxis=dict(dtick=0.05), showlegend=False, \n",
    "                 xaxis_title=\"Rollover Rate\", yaxis_title=\"Keystrokes per Character\")\n",
    "\n",
    "fig.update_yaxes(range=[1, 3])\n",
    "# fig.update_xaxes(range=[0.9, 3])\n",
    "\n",
    "fig.show()"
   ]
  },
  {
   "cell_type": "code",
   "execution_count": null,
   "id": "b14aab77",
   "metadata": {},
   "outputs": [],
   "source": [
    "big_metadata.select(pl.pearson_corr(\"ROR\", \"KSPC\"))"
   ]
  },
  {
   "cell_type": "code",
   "execution_count": null,
   "id": "8e607b67",
   "metadata": {},
   "outputs": [],
   "source": [
    "fig = ff.create_distplot(\n",
    "    [\n",
    "        big_metadata.filter(pl.col(\"FINGERS\") == \"1-2\")[\"KSPC\"].view().tolist(),\n",
    "        big_metadata.filter(pl.col(\"FINGERS\") == \"3-4\")[\"KSPC\"].view().tolist(),\n",
    "        big_metadata.filter(pl.col(\"FINGERS\") == \"5-6\")[\"KSPC\"].view().tolist(),\n",
    "        big_metadata.filter(pl.col(\"FINGERS\") == \"7-8\")[\"KSPC\"].view().tolist(),\n",
    "        big_metadata.filter(pl.col(\"FINGERS\") == \"9-10\")[\"KSPC\"].view().tolist(),\n",
    "    ], group_labels=[\"1-2\", \"3-4\", \"5-6\", \"7-8\", \"9-10\"], show_rug=False, bin_size=0.08)\n",
    "\n",
    "fig.update_layout(template=\"none\", width=1600, height=1300, xaxis=dict(dtick=0.5), font=dict(size=18), \n",
    "                 legend=dict(\n",
    "                        yanchor=\"top\",\n",
    "                        y=0.99,\n",
    "                        xanchor=\"left\",\n",
    "                        x=0.8,\n",
    "                        font=dict(size=30)\n",
    "                    ), xaxis_title=\"KSPC\", yaxis_title=\"Density\")\n",
    "\n",
    "fig.update_xaxes(showgrid=True, range=[0.9, 5])\n",
    "fig.show()"
   ]
  },
  {
   "cell_type": "markdown",
   "id": "ee940dbd",
   "metadata": {},
   "source": [
    "### High-performers"
   ]
  },
  {
   "cell_type": "code",
   "execution_count": 125,
   "id": "27857158",
   "metadata": {},
   "outputs": [
    {
     "data": {
      "text/plain": [
       "(64.4577, 0.314465408805031)"
      ]
     },
     "execution_count": 125,
     "metadata": {},
     "output_type": "execute_result"
    }
   ],
   "source": [
    "wpm_hp = big_metadata[\"AVG_WPM_15\"].quantile(0.75)\n",
    "error_hp = big_metadata[\"ERROR_RATE\"].quantile(0.25)\n",
    "\n",
    "wpm_hp, error_hp"
   ]
  },
  {
   "cell_type": "code",
   "execution_count": 126,
   "id": "8c88cda0",
   "metadata": {},
   "outputs": [
    {
     "data": {
      "text/html": [
       "<div><style>\n",
       ".dataframe > thead > tr > th,\n",
       ".dataframe > tbody > tr > td {\n",
       "  text-align: right;\n",
       "}\n",
       "</style>\n",
       "<small>shape: (2, 2)</small><table border=\"1\" class=\"dataframe\"><thead><tr><th>HIGH_PERFORMER</th><th>counts</th></tr><tr><td>i32</td><td>u32</td></tr></thead><tbody><tr><td>0</td><td>144615</td></tr><tr><td>1</td><td>14541</td></tr></tbody></table></div>"
      ],
      "text/plain": [
       "shape: (2, 2)\n",
       "┌────────────────┬────────┐\n",
       "│ HIGH_PERFORMER ┆ counts │\n",
       "│ ---            ┆ ---    │\n",
       "│ i32            ┆ u32    │\n",
       "╞════════════════╪════════╡\n",
       "│ 0              ┆ 144615 │\n",
       "│ 1              ┆ 14541  │\n",
       "└────────────────┴────────┘"
      ]
     },
     "execution_count": 126,
     "metadata": {},
     "output_type": "execute_result"
    }
   ],
   "source": [
    "# high_performers = big_metadata.filter((pl.col(\"AVG_WPM_15\") >= wpm_hp) & (pl.col(\"ERROR_RATE\") <= error_hp))\n",
    "big_metadata_1 = big_metadata.select([\n",
    "    pl.col(\"*\"),\n",
    "    pl.when((pl.col(\"AVG_WPM_15\") >= wpm_hp) & (pl.col(\"ERROR_RATE\") <= error_hp)).then(1).otherwise(0).alias(\"HIGH_PERFORMER\")\n",
    "])\n",
    "\n",
    "big_metadata_1[\"HIGH_PERFORMER\"].value_counts()"
   ]
  },
  {
   "cell_type": "markdown",
   "id": "62520cee",
   "metadata": {},
   "source": [
    "### Compare IKIs with other people"
   ]
  },
  {
   "cell_type": "code",
   "execution_count": null,
   "id": "c2cfb9df",
   "metadata": {},
   "outputs": [],
   "source": [
    "fig = ff.create_distplot(\n",
    "    [\n",
    "        big_metadata_1.filter(pl.col(\"HIGH_PERFORMER\") == 0)[\"AVG_IKI\"].view().tolist(),\n",
    "        big_metadata_1.filter(pl.col(\"HIGH_PERFORMER\") == 1)[\"AVG_IKI\"].view().tolist()\n",
    "    ], group_labels=[\"Not High Performer\", \"High Performer\"], show_rug=False\n",
    ")\n",
    "\n",
    "fig.update_layout(template=\"none\", width=1600, height=1000, xaxis=dict(dtick=50), font=dict(size=20), \n",
    "                 legend=dict(\n",
    "                        yanchor=\"top\",\n",
    "                        y=0.99,\n",
    "                        xanchor=\"left\",\n",
    "                        x=0.8,\n",
    "                        font=dict(size=30)\n",
    "                    ), xaxis_title=\"Inter-Key Interval Time (ms)\", yaxis_title=\"Density\")\n",
    "\n",
    "fig.update_xaxes(showgrid=True, range=[0, 600])\n",
    "fig.show()"
   ]
  },
  {
   "cell_type": "markdown",
   "id": "92e277ac",
   "metadata": {},
   "source": [
    "### Compare RORs with other people"
   ]
  },
  {
   "cell_type": "code",
   "execution_count": null,
   "id": "85e0709a",
   "metadata": {},
   "outputs": [],
   "source": [
    "fig = ff.create_distplot(\n",
    "    [\n",
    "        big_metadata_1.filter(pl.col(\"HIGH_PERFORMER\") == 0)[\"ROR\"].view().tolist(),\n",
    "        big_metadata_1.filter(pl.col(\"HIGH_PERFORMER\") == 1)[\"ROR\"].view().tolist()\n",
    "    ], group_labels=[\"Not High Performer\", \"High Performer\"], show_rug=False, bin_size=0.01\n",
    ")\n",
    "\n",
    "fig.update_layout(template=\"none\", width=1600, height=1000, xaxis=dict(dtick=0.05), font=dict(size=20), \n",
    "                 legend=dict(\n",
    "                        yanchor=\"top\",\n",
    "                        y=0.99,\n",
    "                        xanchor=\"left\",\n",
    "                        x=0.8,\n",
    "                        font=dict(size=30)\n",
    "                    ), xaxis_title=\"Rollover Rate\", yaxis_title=\"Density\")\n",
    "\n",
    "fig.update_xaxes(showgrid=True, range=[0, 1])\n",
    "fig.show()"
   ]
  },
  {
   "cell_type": "markdown",
   "id": "757bb16e",
   "metadata": {},
   "source": [
    "### Compare Keypresses with other people"
   ]
  },
  {
   "cell_type": "code",
   "execution_count": null,
   "id": "0d9e0200",
   "metadata": {},
   "outputs": [],
   "source": [
    "fig = ff.create_distplot(\n",
    "    [\n",
    "        big_metadata_1.filter(pl.col(\"HIGH_PERFORMER\") == 0)[\"AVG_KEYPRESS\"].view().tolist(),\n",
    "        big_metadata_1.filter(pl.col(\"HIGH_PERFORMER\") == 1)[\"AVG_KEYPRESS\"].view().tolist()\n",
    "    ], group_labels=[\"Not High Performer\", \"High Performer\"], show_rug=False\n",
    ")\n",
    "\n",
    "fig.update_layout(template=\"none\", width=1600, height=1000, xaxis=dict(dtick=25), font=dict(size=20), \n",
    "                 legend=dict(\n",
    "                        yanchor=\"top\",\n",
    "                        y=0.99,\n",
    "                        xanchor=\"left\",\n",
    "                        x=0.8,\n",
    "                        font=dict(size=30)\n",
    "                    ), xaxis_title=\"Keypress duration (ms)\", yaxis_title=\"Density\")\n",
    "\n",
    "# fig.update_xaxes(showgrid=True, range=[0, 300])\n",
    "fig.show()"
   ]
  },
  {
   "cell_type": "code",
   "execution_count": 166,
   "id": "e3f997da",
   "metadata": {},
   "outputs": [],
   "source": [
    "bm = big_metadata_1.filter(pl.col(\"AVG_KEYPRESS\") < 700)"
   ]
  },
  {
   "cell_type": "code",
   "execution_count": 189,
   "id": "054b48e4",
   "metadata": {},
   "outputs": [
    {
     "name": "stdout",
     "output_type": "stream",
     "text": [
      "High Performers\n",
      "shape: (9, 2)\n",
      "┌────────────┬────────────┐\n",
      "│ statistic  ┆ value      │\n",
      "│ ---        ┆ ---        │\n",
      "│ str        ┆ f64        │\n",
      "╞════════════╪════════════╡\n",
      "│ count      ┆ 14541.0    │\n",
      "│ null_count ┆ 0.0        │\n",
      "│ mean       ┆ 108.900055 │\n",
      "│ std        ┆ 19.86985   │\n",
      "│ min        ┆ 8.616685   │\n",
      "│ max        ┆ 226.205656 │\n",
      "│ median     ┆ 106.970109 │\n",
      "│ 25%        ┆ 95.204513  │\n",
      "│ 75%        ┆ 120.478836 │\n",
      "└────────────┴────────────┘\n",
      "Skewness:  0.6547444095699388\n",
      "Kurtosis:  1.062872606199865\n"
     ]
    }
   ],
   "source": [
    "metric = \"AVG_KEYPRESS\"\n",
    "print(\"High Performers\")\n",
    "print(bm.filter(pl.col(\"HIGH_PERFORMER\") == 1)[metric].describe())\n",
    "print(\"Skewness: \", bm.filter(pl.col(\"HIGH_PERFORMER\") == 1)[metric].skew())\n",
    "print(\"Kurtosis: \", bm.filter(pl.col(\"HIGH_PERFORMER\") == 1)[metric].kurtosis())"
   ]
  },
  {
   "cell_type": "code",
   "execution_count": 190,
   "id": "c4063d2e",
   "metadata": {},
   "outputs": [
    {
     "name": "stdout",
     "output_type": "stream",
     "text": [
      "Regular participants\n",
      "shape: (9, 2)\n",
      "┌────────────┬────────────┐\n",
      "│ statistic  ┆ value      │\n",
      "│ ---        ┆ ---        │\n",
      "│ str        ┆ f64        │\n",
      "╞════════════╪════════════╡\n",
      "│ count      ┆ 144607.0   │\n",
      "│ null_count ┆ 0.0        │\n",
      "│ mean       ┆ 120.825241 │\n",
      "│ std        ┆ 31.837429  │\n",
      "│ min        ┆ 2.481481   │\n",
      "│ max        ┆ 687.409371 │\n",
      "│ median     ┆ 116.333333 │\n",
      "│ 25%        ┆ 100.74295  │\n",
      "│ 75%        ┆ 134.74359  │\n",
      "└────────────┴────────────┘\n",
      "Skewness:  2.920535782585014\n",
      "Kurtosis:  23.576127433810097\n"
     ]
    }
   ],
   "source": [
    "print(\"Regular participants\")\n",
    "print(bm.filter(pl.col(\"HIGH_PERFORMER\") == 0)[metric].describe())\n",
    "print(\"Skewness: \", bm.filter(pl.col(\"HIGH_PERFORMER\") == 0)[metric].skew())\n",
    "print(\"Kurtosis: \", bm.filter(pl.col(\"HIGH_PERFORMER\") == 0)[metric].kurtosis())"
   ]
  },
  {
   "cell_type": "code",
   "execution_count": null,
   "id": "90ef9765",
   "metadata": {},
   "outputs": [],
   "source": []
  }
 ],
 "metadata": {
  "kernelspec": {
   "display_name": "python3.10.9",
   "language": "python",
   "name": "python3"
  },
  "language_info": {
   "codemirror_mode": {
    "name": "ipython",
    "version": 3
   },
   "file_extension": ".py",
   "mimetype": "text/x-python",
   "name": "python",
   "nbconvert_exporter": "python",
   "pygments_lexer": "ipython3",
   "version": "3.10.11"
  }
 },
 "nbformat": 4,
 "nbformat_minor": 5
}
