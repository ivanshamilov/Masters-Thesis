{
 "cells": [
  {
   "cell_type": "code",
   "execution_count": null,
   "id": "269aac3f",
   "metadata": {},
   "outputs": [],
   "source": [
    "big_metadata = pl.read_csv(\"data/preprocessed_big_metadata.csv\")\n",
    "big_metadata.head()"
   ]
  },
  {
   "cell_type": "code",
   "execution_count": null,
   "id": "cfc79056",
   "metadata": {},
   "outputs": [],
   "source": [
    "with open(\"mappings/key-hand.json\", \"r\") as f:\n",
    "    key_hand = json.load(f)\n",
    "    \n",
    "key_hand.items()"
   ]
  },
  {
   "cell_type": "code",
   "execution_count": null,
   "id": "d2c2ea3a",
   "metadata": {},
   "outputs": [],
   "source": [
    "mapper = Mapper()\n",
    "participant_ids = find_all_participants(BIG_DATA_DIR)"
   ]
  },
  {
   "cell_type": "code",
   "execution_count": null,
   "id": "f6f19cf7",
   "metadata": {},
   "outputs": [],
   "source": [
    "participant_ids[:10]"
   ]
  },
  {
   "cell_type": "code",
   "execution_count": null,
   "id": "2c720c16",
   "metadata": {
    "scrolled": true
   },
   "outputs": [],
   "source": [
    "ignore_keys = [mapper.get_code_from_key(\"<SoS>\"), mapper.get_code_from_key(\"space\")]\n",
    "hands = np.empty((len(participant_ids), 3, 2))\n",
    "\n",
    "# pids = ['291017']\n",
    "\n",
    "for i, participant_id in enumerate(participant_ids):\n",
    "    if i % 1000 == 0:\n",
    "        print(f\"File {i:7d} of {len(participant_ids)}\")\n",
    "    try:\n",
    "        df = read_data_for_participant(participant_id, directory=BIG_DATA_DIR, print_info=False, drop_timestamps=False, \n",
    "                                       columns_to_read=[\"TEST_SECTION_ID\", \"RELEASE_TIME\", \"PRESS_TIME\", \"KEYCODE\"], quote_char=None,\n",
    "                                       dtypes={\"PRESS_TIME\": float, \"RELEASE_TIME\": float})\n",
    "        df = create_bigrams(df, ignore_keys=ignore_keys)\n",
    "        df = (\n",
    "            df.lazy()\n",
    "            .with_columns([\n",
    "                pl.struct([\"PREV_KEYCODE\", \"KEYCODE\"]).apply(lambda x: key_hand[str(x[\"PREV_KEYCODE\"])] + key_hand[str(x[\"KEYCODE\"])]).alias(\"HANDS\"),\n",
    "            ])\n",
    "            .select([\n",
    "                pl.col(\"INTER_KEY_INTERVAL\"),\n",
    "                pl.when(pl.col(\"HANDS\").apply(lambda x: len(set(x))) == 1)\n",
    "                    .then(pl.col(\"HANDS\").apply(lambda x: x[0]))\n",
    "                    .otherwise(\"Alteration\")\n",
    "                    .alias(\"BIGRAM_HAND\"),\n",
    "                pl.when(pl.col(\"KEYCODE\") == pl.col(\"PREV_KEYCODE\"))\n",
    "                    .then(pl.col(\"INTER_KEY_INTERVAL\"))\n",
    "                    .otherwise(None)\n",
    "                    .alias(\"LETTER_REPETITION\")\n",
    "            ])\n",
    "            .groupby(\"BIGRAM_HAND\").mean()\n",
    "            .sort(\"BIGRAM_HAND\")\n",
    "            .collect()\n",
    "        ) \n",
    "        \n",
    "        # Output is a dataframe with the average value of IKI for Left / Right hand, Hand-alteration + Letter Repetition\n",
    "        hands[i] = df[:,1:].rows() # first element - alteration, second - left, third - right\n",
    "    except FileNotFoundError:\n",
    "        continue\n",
    "    "
   ]
  },
  {
   "cell_type": "code",
   "execution_count": null,
   "id": "7733edd8",
   "metadata": {},
   "outputs": [],
   "source": [
    "with open('data/hand-comparison-repetitions.pickle', 'rb') as handle:\n",
    "    hands = pickle.load(handle)"
   ]
  },
  {
   "cell_type": "code",
   "execution_count": null,
   "id": "da8a4853",
   "metadata": {
    "scrolled": false
   },
   "outputs": [],
   "source": [
    "# bigrams = np.array([\"Alteration\", \"L\", \"R\"] * len(participant_ids)).reshape(-1, 1)\n",
    "# test = np.concatenate([hands.reshape(-1, 2), bigrams], axis=1)\n",
    "\n",
    "hands_df = pl.DataFrame(data=hands.reshape(-1, 2), schema=[\"IKI\", \"IKI_REPETITION\"])\n",
    "hands_df = hands_df.with_columns([\n",
    "    pl.Series(np.array([\"Alteration\", \"L\", \"R\"] * len(participant_ids))).alias(\"BIGRAM_HAND\"),\n",
    "    pl.Series(np.array(list(map(lambda x: np.repeat(x, 3).tolist(), np.array(participant_ids).reshape(-1, 1)))).ravel()).alias(\"PARTICIPANT_ID\").cast(int)\n",
    "])"
   ]
  },
  {
   "cell_type": "markdown",
   "id": "16beadd2",
   "metadata": {},
   "source": [
    "### Difference between hand bigrams for all participants"
   ]
  },
  {
   "cell_type": "code",
   "execution_count": null,
   "id": "01ddb8c0",
   "metadata": {},
   "outputs": [],
   "source": [
    "fig = ff.create_distplot(\n",
    "    [\n",
    "        hands_df.filter(pl.col(\"BIGRAM_HAND\") == \"R\")[\"IKI\"].view().tolist(),\n",
    "        hands_df.filter(pl.col(\"BIGRAM_HAND\") == \"L\")[\"IKI\"].view().tolist(),\n",
    "        hands_df.filter(pl.col(\"BIGRAM_HAND\") == \"Alteration\")[\"IKI\"].view().tolist(),\n",
    "    ], group_labels=[\"Right\", \"Left\", \"Hand-alteration\"], show_rug=False, bin_size=10)\n",
    "\n",
    "\n",
    "fig.update_layout(template=\"none\", width=1600, height=1000, xaxis=dict(dtick=50), font=dict(size=18), \n",
    "                 legend=dict(\n",
    "                        yanchor=\"top\",\n",
    "                        y=0.99,\n",
    "                        xanchor=\"left\",\n",
    "                        x=0.8,\n",
    "                        font=dict(size=30)\n",
    "                    ), xaxis_title=\"Inter-Key Interval Time\", yaxis_title=\"Density\")\n",
    "# \n",
    "fig.update_xaxes(showgrid=True, range=[-220, 600])\n",
    "fig.show()"
   ]
  },
  {
   "cell_type": "code",
   "execution_count": null,
   "id": "588dd815",
   "metadata": {},
   "outputs": [],
   "source": [
    "hands_df = hands_df.join(big_metadata[[\"PARTICIPANT_ID\", \"SPEED\", \"HAS_TAKEN_TYPING_COURSE\"]], on=\"PARTICIPANT_ID\")\n",
    "hands_df.head()"
   ]
  },
  {
   "cell_type": "code",
   "execution_count": null,
   "id": "78441ad1",
   "metadata": {},
   "outputs": [],
   "source": [
    "trained_hands_df = hands_df.filter(pl.col(\"HAS_TAKEN_TYPING_COURSE\") == 1)\n",
    "untrained_hands_df = hands_df.filter(pl.col(\"HAS_TAKEN_TYPING_COURSE\") == 0)\n",
    "\n",
    "fast_hands_df = hands_df.filter(pl.col(\"SPEED\") == \"fast\")\n",
    "slow_hands_df = hands_df.filter(pl.col(\"SPEED\") == \"slow\")"
   ]
  },
  {
   "cell_type": "markdown",
   "id": "ba61458f",
   "metadata": {},
   "source": [
    "### Bigram hands for Trained Participants"
   ]
  },
  {
   "cell_type": "code",
   "execution_count": null,
   "id": "8d00b2d6",
   "metadata": {},
   "outputs": [],
   "source": [
    "fig = ff.create_distplot(\n",
    "    [\n",
    "        trained_hands_df.filter(pl.col(\"BIGRAM_HAND\") == \"R\")[\"IKI\"].view().tolist(),\n",
    "        trained_hands_df.filter(pl.col(\"BIGRAM_HAND\") == \"L\")[\"IKI\"].view().tolist(),\n",
    "        trained_hands_df.filter(pl.col(\"BIGRAM_HAND\") == \"Alteration\")[\"IKI\"].view().tolist(),\n",
    "    ], group_labels=[\"Right\", \"Left\", \"Hand-alteration\"], show_rug=False, bin_size=10)\n",
    "\n",
    "\n",
    "fig.update_layout(template=\"none\", width=1600, height=1000, xaxis=dict(dtick=50), font=dict(size=18), \n",
    "                 legend=dict(\n",
    "                        yanchor=\"top\",\n",
    "                        y=0.99,\n",
    "                        xanchor=\"left\",\n",
    "                        x=0.8,\n",
    "                        font=dict(size=30)\n",
    "                    ), xaxis_title=\"Inter-Key Interval Time\", yaxis_title=\"Density\")\n",
    "# \n",
    "fig.update_xaxes(showgrid=True, range=[-220, 600])\n",
    "fig.show()"
   ]
  },
  {
   "cell_type": "markdown",
   "id": "d711b939",
   "metadata": {},
   "source": [
    "### Bigram hands for Untrained Participants"
   ]
  },
  {
   "cell_type": "code",
   "execution_count": null,
   "id": "25e0d439",
   "metadata": {},
   "outputs": [],
   "source": [
    "fig = ff.create_distplot(\n",
    "    [\n",
    "        untrained_hands_df.filter(pl.col(\"BIGRAM_HAND\") == \"R\")[\"IKI\"].view().tolist(),\n",
    "        untrained_hands_df.filter(pl.col(\"BIGRAM_HAND\") == \"L\")[\"IKI\"].view().tolist(),\n",
    "        untrained_hands_df.filter(pl.col(\"BIGRAM_HAND\") == \"Alteration\")[\"IKI\"].view().tolist(),\n",
    "    ], group_labels=[\"Right\", \"Left\", \"Hand-alteration\"], show_rug=False, bin_size=10)\n",
    "\n",
    "\n",
    "fig.update_layout(template=\"none\", width=1600, height=1000, xaxis=dict(dtick=50), font=dict(size=18), \n",
    "                 legend=dict(\n",
    "                        yanchor=\"top\",\n",
    "                        y=0.99,\n",
    "                        xanchor=\"left\",\n",
    "                        x=0.8,\n",
    "                        font=dict(size=30)\n",
    "                    ), xaxis_title=\"Inter-Key Interval Time\", yaxis_title=\"Density\")\n",
    "# \n",
    "fig.update_xaxes(showgrid=True, range=[-220, 600])\n",
    "fig.show()"
   ]
  },
  {
   "cell_type": "markdown",
   "id": "cf3a4a5a",
   "metadata": {},
   "source": [
    "### Bigram hands for Fast Participants"
   ]
  },
  {
   "cell_type": "code",
   "execution_count": null,
   "id": "fec02a4d",
   "metadata": {},
   "outputs": [],
   "source": [
    "fig = ff.create_distplot(\n",
    "    [\n",
    "        fast_hands_df.filter(pl.col(\"BIGRAM_HAND\") == \"R\")[\"IKI\"].view().tolist(),\n",
    "        fast_hands_df.filter(pl.col(\"BIGRAM_HAND\") == \"L\")[\"IKI\"].view().tolist(),\n",
    "        fast_hands_df.filter(pl.col(\"BIGRAM_HAND\") == \"Alteration\")[\"IKI\"].view().tolist(),\n",
    "    ], group_labels=[\"Right\", \"Left\", \"Hand-alteration\"], show_rug=False, bin_size=10)\n",
    "\n",
    "\n",
    "fig.update_layout(template=\"none\", width=1600, height=1000, xaxis=dict(dtick=50), font=dict(size=18), \n",
    "                 legend=dict(\n",
    "                        yanchor=\"top\",\n",
    "                        y=0.99,\n",
    "                        xanchor=\"left\",\n",
    "                        x=0.8,\n",
    "                        font=dict(size=30)\n",
    "                    ), xaxis_title=\"Inter-Key Interval Time\", yaxis_title=\"Density\")\n",
    "# \n",
    "fig.update_xaxes(showgrid=True, range=[-220, 600])\n",
    "fig.show()"
   ]
  },
  {
   "cell_type": "markdown",
   "id": "96669d27",
   "metadata": {},
   "source": [
    "### Bigram hands for Slow Participants"
   ]
  },
  {
   "cell_type": "code",
   "execution_count": null,
   "id": "22139218",
   "metadata": {},
   "outputs": [],
   "source": [
    "fig = ff.create_distplot(\n",
    "    [\n",
    "        slow_hands_df.filter(pl.col(\"BIGRAM_HAND\") == \"R\")[\"IKI\"].view().tolist(),\n",
    "        slow_hands_df.filter(pl.col(\"BIGRAM_HAND\") == \"L\")[\"IKI\"].view().tolist(),\n",
    "        slow_hands_df.filter(pl.col(\"BIGRAM_HAND\") == \"Alteration\")[\"IKI\"].view().tolist(),\n",
    "    ], group_labels=[\"Right\", \"Left\", \"Hand-alteration\"], show_rug=False, bin_size=10)\n",
    "\n",
    "\n",
    "fig.update_layout(template=\"none\", width=1600, height=1000, xaxis=dict(dtick=50), font=dict(size=18), \n",
    "                 legend=dict(\n",
    "                        yanchor=\"top\",\n",
    "                        y=0.99,\n",
    "                        xanchor=\"left\",\n",
    "                        x=0.8,\n",
    "                        font=dict(size=30)\n",
    "                    ), xaxis_title=\"Inter-Key Interval Time\", yaxis_title=\"Density\")\n",
    "# \n",
    "fig.update_xaxes(showgrid=True, range=[-220, 600])\n",
    "fig.show()"
   ]
  },
  {
   "cell_type": "code",
   "execution_count": null,
   "id": "5091c2b4",
   "metadata": {},
   "outputs": [],
   "source": [
    "schema = {\"Name\": str, \"Median\": float, \"Mean\": float, \"Std\": float, \"Kurtosis\": float, \"Skewness\": float}\n",
    "statistics_df = pl.DataFrame(schema=schema)"
   ]
  },
  {
   "cell_type": "code",
   "execution_count": null,
   "id": "8d539828",
   "metadata": {},
   "outputs": [],
   "source": [
    "def stats(df, name):\n",
    "    global statistics_df, schema\n",
    "    _vals = name, df.median(), df.mean(), df.std(), df.skew(), df.kurtosis()\n",
    "    statistics_df = statistics_df.extend(pl.DataFrame(np.array(_vals).reshape(-1, 1), schema=schema))"
   ]
  },
  {
   "cell_type": "markdown",
   "id": "352a56da",
   "metadata": {},
   "source": [
    "### Right hand statistics"
   ]
  },
  {
   "cell_type": "code",
   "execution_count": null,
   "id": "5e047172",
   "metadata": {},
   "outputs": [],
   "source": [
    "stats(hands_df.filter(pl.col(\"BIGRAM_HAND\") == \"R\")[\"IKI\"], \"right-hand\")\n",
    "stats(hands_df.filter((pl.col(\"BIGRAM_HAND\") == \"R\") & (pl.col(\"HAS_TAKEN_TYPING_COURSE\") == 1))[\"IKI\"], \"right-hand-trained\")\n",
    "stats(hands_df.filter((pl.col(\"BIGRAM_HAND\") == \"R\") & (pl.col(\"HAS_TAKEN_TYPING_COURSE\") == 0))[\"IKI\"], \"right-hand-untrained\")\n",
    "stats(hands_df.filter((pl.col(\"BIGRAM_HAND\") == \"R\") & (pl.col(\"SPEED\") == \"fast\"))[\"IKI\"], \"right-hand-fast\")\n",
    "stats(hands_df.filter((pl.col(\"BIGRAM_HAND\") == \"R\") & (pl.col(\"SPEED\") == \"slow\"))[\"IKI\"], \"right-hand-slow\")\n",
    "\n",
    "stats(hands_df.filter(pl.col(\"BIGRAM_HAND\") == \"R\")[\"IKI_REPETITION\"].fill_nan(None).fill_null(strategy=\"mean\"), \"right-hand-r\")\n",
    "stats(hands_df.filter((pl.col(\"BIGRAM_HAND\") == \"R\") & (pl.col(\"HAS_TAKEN_TYPING_COURSE\") == 1))[\"IKI_REPETITION\"].fill_nan(None).fill_null(strategy=\"mean\"), \"right-hand-r-trained\")\n",
    "stats(hands_df.filter((pl.col(\"BIGRAM_HAND\") == \"R\") & (pl.col(\"HAS_TAKEN_TYPING_COURSE\") == 0))[\"IKI_REPETITION\"].fill_nan(None).fill_null(strategy=\"mean\"), \"right-hand-r-untrained\")\n",
    "stats(hands_df.filter((pl.col(\"BIGRAM_HAND\") == \"R\") & (pl.col(\"SPEED\") == \"fast\"))[\"IKI_REPETITION\"].fill_nan(None).fill_null(strategy=\"mean\"), \"right-hand-r-fast\")\n",
    "stats(hands_df.filter((pl.col(\"BIGRAM_HAND\") == \"R\") & (pl.col(\"SPEED\") == \"slow\"))[\"IKI_REPETITION\"].fill_nan(None).fill_null(strategy=\"mean\"), \"right-hand-r-slow\")\n",
    "\n",
    "statistics_df"
   ]
  },
  {
   "cell_type": "markdown",
   "id": "8cb0fe68",
   "metadata": {},
   "source": [
    "### Left hand statistics"
   ]
  },
  {
   "cell_type": "code",
   "execution_count": null,
   "id": "c63a5ee7",
   "metadata": {},
   "outputs": [],
   "source": [
    "stats(hands_df.filter(pl.col(\"BIGRAM_HAND\") == \"L\")[\"IKI\"], \"left-hand\")\n",
    "stats(hands_df.filter((pl.col(\"BIGRAM_HAND\") == \"L\") & (pl.col(\"HAS_TAKEN_TYPING_COURSE\") == 1))[\"IKI\"], \"left-hand-trained\")\n",
    "stats(hands_df.filter((pl.col(\"BIGRAM_HAND\") == \"L\") & (pl.col(\"HAS_TAKEN_TYPING_COURSE\") == 0))[\"IKI\"], \"left-hand-untrained\")\n",
    "stats(hands_df.filter((pl.col(\"BIGRAM_HAND\") == \"L\") & (pl.col(\"SPEED\") == \"fast\"))[\"IKI\"], \"left-hand-fast\")\n",
    "stats(hands_df.filter((pl.col(\"BIGRAM_HAND\") == \"L\") & (pl.col(\"SPEED\") == \"slow\"))[\"IKI\"], \"left-hand-slow\")\n",
    "\n",
    "stats(hands_df.filter(pl.col(\"BIGRAM_HAND\") == \"L\")[\"IKI_REPETITION\"].fill_nan(None).fill_null(strategy=\"mean\"), \"left-hand-r\")\n",
    "stats(hands_df.filter((pl.col(\"BIGRAM_HAND\") == \"L\") & (pl.col(\"HAS_TAKEN_TYPING_COURSE\") == 1))[\"IKI_REPETITION\"].fill_nan(None).fill_null(strategy=\"mean\"), \"left-hand-r-trained\")\n",
    "stats(hands_df.filter((pl.col(\"BIGRAM_HAND\") == \"L\") & (pl.col(\"HAS_TAKEN_TYPING_COURSE\") == 0))[\"IKI_REPETITION\"].fill_nan(None).fill_null(strategy=\"mean\"), \"left-hand-r-untrained\")\n",
    "stats(hands_df.filter((pl.col(\"BIGRAM_HAND\") == \"L\") & (pl.col(\"SPEED\") == \"fast\"))[\"IKI_REPETITION\"].fill_nan(None).fill_null(strategy=\"mean\"), \"left-hand-r-fast\")\n",
    "stats(hands_df.filter((pl.col(\"BIGRAM_HAND\") == \"L\") & (pl.col(\"SPEED\") == \"slow\"))[\"IKI_REPETITION\"].fill_nan(None).fill_null(strategy=\"mean\"), \"left-hand-r-slow\")\n",
    "\n",
    "statistics_df"
   ]
  },
  {
   "cell_type": "markdown",
   "id": "24dad683",
   "metadata": {},
   "source": [
    "### Hand-alteration statistics"
   ]
  },
  {
   "cell_type": "code",
   "execution_count": null,
   "id": "eca17952",
   "metadata": {},
   "outputs": [],
   "source": [
    "stats(hands_df.filter(pl.col(\"BIGRAM_HAND\") == \"Alteration\")[\"IKI\"], \"hand-alt\")\n",
    "stats(hands_df.filter((pl.col(\"BIGRAM_HAND\") == \"Alteration\") & (pl.col(\"HAS_TAKEN_TYPING_COURSE\") == 1))[\"IKI\"], \"hand-alt-trained\")\n",
    "stats(hands_df.filter((pl.col(\"BIGRAM_HAND\") == \"Alteration\") & (pl.col(\"HAS_TAKEN_TYPING_COURSE\") == 0))[\"IKI\"], \"hand-alt-untrained\")\n",
    "stats(hands_df.filter((pl.col(\"BIGRAM_HAND\") == \"Alteration\") & (pl.col(\"SPEED\") == \"fast\"))[\"IKI\"], \"hand-alt-fast\")\n",
    "stats(hands_df.filter((pl.col(\"BIGRAM_HAND\") == \"Alteration\") & (pl.col(\"SPEED\") == \"slow\"))[\"IKI\"], \"hand-alt-slow\")\n",
    "statistics_df"
   ]
  },
  {
   "cell_type": "code",
   "execution_count": null,
   "id": "adf77b80",
   "metadata": {},
   "outputs": [],
   "source": []
  }
 ],
 "metadata": {
  "kernelspec": {
   "display_name": "python3.10.9",
   "language": "python",
   "name": "python3"
  },
  "language_info": {
   "codemirror_mode": {
    "name": "ipython",
    "version": 3
   },
   "file_extension": ".py",
   "mimetype": "text/x-python",
   "name": "python",
   "nbconvert_exporter": "python",
   "pygments_lexer": "ipython3",
   "version": "3.10.9"
  }
 },
 "nbformat": 4,
 "nbformat_minor": 5
}
